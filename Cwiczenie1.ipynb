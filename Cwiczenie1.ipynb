{
 "cells": [
  {
   "cell_type": "code",
   "execution_count": 18,
   "metadata": {},
   "outputs": [],
   "source": [
    "import urllib.request\n",
    "import os\n",
    "import shutil\n",
    "import gzip\n",
    "import numpy as np\n",
    "import matplotlib.pyplot as plt\n",
    "\n",
    "from sklearn.datasets import fetch_openml\n",
    "import random\n",
    "from sklearn.model_selection import train_test_split\n",
    "\n",
    "import pandas as pd\n",
    "from sklearn.preprocessing import MinMaxScaler, StandardScaler, RobustScaler, Normalizer, Binarizer\n",
    "from sklearn.impute import SimpleImputer\n",
    "\n",
    "from imgaug import augmenters as iaa\n"
   ]
  },
  {
   "cell_type": "markdown",
   "metadata": {},
   "source": [
    "## Zapoznanie się z zestawami danych\n",
    "\n",
    "\n",
    "### MNIST\n",
    "\n",
    "http://yann.lecun.com/exdb/mnist/\n",
    "\n",
    "\n",
    "MNIST (Modified National Institute of Standards and Technology database) - duży zbiór ręcznie zapisanych cyfr. Zawiera znormalizowane obrazki (28x28 px, anti-alliasing). \n",
    "Posiada 60'000 obrazów treningowych i 10'000 testowych.\n",
    "\n",
    "\n",
    "Musimy zacząć od pobrania i zdekowania danych. Można zrobic to np. na piechotę:"
   ]
  },
  {
   "cell_type": "code",
   "execution_count": 10,
   "metadata": {},
   "outputs": [],
   "source": [
    "mnist_prefix = \"./mnist\"\n",
    "if os.path.isdir(mnist_prefix):\n",
    "    shutil.rmtree(mnist_prefix)\n",
    "os.mkdir(mnist_prefix)\n",
    "base_url = \"http://yann.lecun.com/exdb/mnist/\"\n",
    "datasets = [\"train-labels-idx1-ubyte.gz\", \"train-images-idx3-ubyte.gz\", \"t10k-labels-idx1-ubyte.gz\", \"t10k-images-idx3-ubyte.gz\"]"
   ]
  },
  {
   "cell_type": "code",
   "execution_count": 11,
   "metadata": {},
   "outputs": [],
   "source": [
    "def fetch_gz(base_url, name):\n",
    "    path = \"{}/{}\".format(mnist_prefix, name)\n",
    "    urllib.request.urlretrieve(\"{}{}\".format(base_url, name), path)\n",
    "    data_file = gzip.open(path, \"rb\")\n",
    "    data = data_file.read()\n",
    "    data_file.close()\n",
    "    return data"
   ]
  },
  {
   "cell_type": "code",
   "execution_count": 12,
   "metadata": {},
   "outputs": [],
   "source": [
    "def decode_mnist(data):\n",
    "    magic_number = int.from_bytes(data[0:4], byteorder='big')\n",
    "    if magic_number == 2051:\n",
    "        number_of_images = int.from_bytes(data[4:8], byteorder='big')\n",
    "        rows = int.from_bytes(data[8:12], byteorder='big')\n",
    "        columns = int.from_bytes(data[12:16], byteorder='big')\n",
    "        print(\"File contains {} images {}x{}\".format(number_of_images, rows, columns))\n",
    "        pixels = [int(b) for b in data[16:]]\n",
    "        return np.array(pixels).reshape((number_of_images, rows, columns))\n",
    "    elif magic_number == 2049:\n",
    "        number_of_labels = int.from_bytes(data[4:8], byteorder='big')\n",
    "        print(\"File contain {} labels\".format(number_of_labels))\n",
    "        return [int(b) for b in data[8:]]"
   ]
  },
  {
   "cell_type": "code",
   "execution_count": 13,
   "metadata": {},
   "outputs": [
    {
     "ename": "HTTPError",
     "evalue": "HTTP Error 403: Forbidden",
     "output_type": "error",
     "traceback": [
      "\u001b[0;31m---------------------------------------------------------------------------\u001b[0m",
      "\u001b[0;31mHTTPError\u001b[0m                                 Traceback (most recent call last)",
      "\u001b[0;32m<ipython-input-13-31ef850c8e3e>\u001b[0m in \u001b[0;36m<module>\u001b[0;34m\u001b[0m\n\u001b[0;32m----> 1\u001b[0;31m \u001b[0;34m(\u001b[0m\u001b[0mtrain_labels\u001b[0m\u001b[0;34m,\u001b[0m \u001b[0mtrain_images\u001b[0m\u001b[0;34m,\u001b[0m \u001b[0mtest_labels\u001b[0m\u001b[0;34m,\u001b[0m \u001b[0mtest_images\u001b[0m\u001b[0;34m)\u001b[0m \u001b[0;34m=\u001b[0m \u001b[0;34m[\u001b[0m\u001b[0mdecode_mnist\u001b[0m\u001b[0;34m(\u001b[0m\u001b[0mfetch_gz\u001b[0m\u001b[0;34m(\u001b[0m\u001b[0mbase_url\u001b[0m\u001b[0;34m,\u001b[0m \u001b[0mds\u001b[0m\u001b[0;34m)\u001b[0m\u001b[0;34m)\u001b[0m \u001b[0;32mfor\u001b[0m \u001b[0mds\u001b[0m \u001b[0;32min\u001b[0m \u001b[0mdatasets\u001b[0m\u001b[0;34m]\u001b[0m\u001b[0;34m\u001b[0m\u001b[0;34m\u001b[0m\u001b[0m\n\u001b[0m",
      "\u001b[0;32m<ipython-input-13-31ef850c8e3e>\u001b[0m in \u001b[0;36m<listcomp>\u001b[0;34m(.0)\u001b[0m\n\u001b[0;32m----> 1\u001b[0;31m \u001b[0;34m(\u001b[0m\u001b[0mtrain_labels\u001b[0m\u001b[0;34m,\u001b[0m \u001b[0mtrain_images\u001b[0m\u001b[0;34m,\u001b[0m \u001b[0mtest_labels\u001b[0m\u001b[0;34m,\u001b[0m \u001b[0mtest_images\u001b[0m\u001b[0;34m)\u001b[0m \u001b[0;34m=\u001b[0m \u001b[0;34m[\u001b[0m\u001b[0mdecode_mnist\u001b[0m\u001b[0;34m(\u001b[0m\u001b[0mfetch_gz\u001b[0m\u001b[0;34m(\u001b[0m\u001b[0mbase_url\u001b[0m\u001b[0;34m,\u001b[0m \u001b[0mds\u001b[0m\u001b[0;34m)\u001b[0m\u001b[0;34m)\u001b[0m \u001b[0;32mfor\u001b[0m \u001b[0mds\u001b[0m \u001b[0;32min\u001b[0m \u001b[0mdatasets\u001b[0m\u001b[0;34m]\u001b[0m\u001b[0;34m\u001b[0m\u001b[0;34m\u001b[0m\u001b[0m\n\u001b[0m",
      "\u001b[0;32m<ipython-input-11-45d8ee115bec>\u001b[0m in \u001b[0;36mfetch_gz\u001b[0;34m(base_url, name)\u001b[0m\n\u001b[1;32m      1\u001b[0m \u001b[0;32mdef\u001b[0m \u001b[0mfetch_gz\u001b[0m\u001b[0;34m(\u001b[0m\u001b[0mbase_url\u001b[0m\u001b[0;34m,\u001b[0m \u001b[0mname\u001b[0m\u001b[0;34m)\u001b[0m\u001b[0;34m:\u001b[0m\u001b[0;34m\u001b[0m\u001b[0;34m\u001b[0m\u001b[0m\n\u001b[1;32m      2\u001b[0m     \u001b[0mpath\u001b[0m \u001b[0;34m=\u001b[0m \u001b[0;34m\"{}/{}\"\u001b[0m\u001b[0;34m.\u001b[0m\u001b[0mformat\u001b[0m\u001b[0;34m(\u001b[0m\u001b[0mmnist_prefix\u001b[0m\u001b[0;34m,\u001b[0m \u001b[0mname\u001b[0m\u001b[0;34m)\u001b[0m\u001b[0;34m\u001b[0m\u001b[0;34m\u001b[0m\u001b[0m\n\u001b[0;32m----> 3\u001b[0;31m     \u001b[0murllib\u001b[0m\u001b[0;34m.\u001b[0m\u001b[0mrequest\u001b[0m\u001b[0;34m.\u001b[0m\u001b[0murlretrieve\u001b[0m\u001b[0;34m(\u001b[0m\u001b[0;34m\"{}{}\"\u001b[0m\u001b[0;34m.\u001b[0m\u001b[0mformat\u001b[0m\u001b[0;34m(\u001b[0m\u001b[0mbase_url\u001b[0m\u001b[0;34m,\u001b[0m \u001b[0mname\u001b[0m\u001b[0;34m)\u001b[0m\u001b[0;34m,\u001b[0m \u001b[0mpath\u001b[0m\u001b[0;34m)\u001b[0m\u001b[0;34m\u001b[0m\u001b[0;34m\u001b[0m\u001b[0m\n\u001b[0m\u001b[1;32m      4\u001b[0m     \u001b[0mdata_file\u001b[0m \u001b[0;34m=\u001b[0m \u001b[0mgzip\u001b[0m\u001b[0;34m.\u001b[0m\u001b[0mopen\u001b[0m\u001b[0;34m(\u001b[0m\u001b[0mpath\u001b[0m\u001b[0;34m,\u001b[0m \u001b[0;34m\"rb\"\u001b[0m\u001b[0;34m)\u001b[0m\u001b[0;34m\u001b[0m\u001b[0;34m\u001b[0m\u001b[0m\n\u001b[1;32m      5\u001b[0m     \u001b[0mdata\u001b[0m \u001b[0;34m=\u001b[0m \u001b[0mdata_file\u001b[0m\u001b[0;34m.\u001b[0m\u001b[0mread\u001b[0m\u001b[0;34m(\u001b[0m\u001b[0;34m)\u001b[0m\u001b[0;34m\u001b[0m\u001b[0;34m\u001b[0m\u001b[0m\n",
      "\u001b[0;32m/usr/lib64/python3.6/urllib/request.py\u001b[0m in \u001b[0;36murlretrieve\u001b[0;34m(url, filename, reporthook, data)\u001b[0m\n\u001b[1;32m    246\u001b[0m     \u001b[0murl_type\u001b[0m\u001b[0;34m,\u001b[0m \u001b[0mpath\u001b[0m \u001b[0;34m=\u001b[0m \u001b[0msplittype\u001b[0m\u001b[0;34m(\u001b[0m\u001b[0murl\u001b[0m\u001b[0;34m)\u001b[0m\u001b[0;34m\u001b[0m\u001b[0;34m\u001b[0m\u001b[0m\n\u001b[1;32m    247\u001b[0m \u001b[0;34m\u001b[0m\u001b[0m\n\u001b[0;32m--> 248\u001b[0;31m     \u001b[0;32mwith\u001b[0m \u001b[0mcontextlib\u001b[0m\u001b[0;34m.\u001b[0m\u001b[0mclosing\u001b[0m\u001b[0;34m(\u001b[0m\u001b[0murlopen\u001b[0m\u001b[0;34m(\u001b[0m\u001b[0murl\u001b[0m\u001b[0;34m,\u001b[0m \u001b[0mdata\u001b[0m\u001b[0;34m)\u001b[0m\u001b[0;34m)\u001b[0m \u001b[0;32mas\u001b[0m \u001b[0mfp\u001b[0m\u001b[0;34m:\u001b[0m\u001b[0;34m\u001b[0m\u001b[0;34m\u001b[0m\u001b[0m\n\u001b[0m\u001b[1;32m    249\u001b[0m         \u001b[0mheaders\u001b[0m \u001b[0;34m=\u001b[0m \u001b[0mfp\u001b[0m\u001b[0;34m.\u001b[0m\u001b[0minfo\u001b[0m\u001b[0;34m(\u001b[0m\u001b[0;34m)\u001b[0m\u001b[0;34m\u001b[0m\u001b[0;34m\u001b[0m\u001b[0m\n\u001b[1;32m    250\u001b[0m \u001b[0;34m\u001b[0m\u001b[0m\n",
      "\u001b[0;32m/usr/lib64/python3.6/urllib/request.py\u001b[0m in \u001b[0;36murlopen\u001b[0;34m(url, data, timeout, cafile, capath, cadefault, context)\u001b[0m\n\u001b[1;32m    221\u001b[0m     \u001b[0;32melse\u001b[0m\u001b[0;34m:\u001b[0m\u001b[0;34m\u001b[0m\u001b[0;34m\u001b[0m\u001b[0m\n\u001b[1;32m    222\u001b[0m         \u001b[0mopener\u001b[0m \u001b[0;34m=\u001b[0m \u001b[0m_opener\u001b[0m\u001b[0;34m\u001b[0m\u001b[0;34m\u001b[0m\u001b[0m\n\u001b[0;32m--> 223\u001b[0;31m     \u001b[0;32mreturn\u001b[0m \u001b[0mopener\u001b[0m\u001b[0;34m.\u001b[0m\u001b[0mopen\u001b[0m\u001b[0;34m(\u001b[0m\u001b[0murl\u001b[0m\u001b[0;34m,\u001b[0m \u001b[0mdata\u001b[0m\u001b[0;34m,\u001b[0m \u001b[0mtimeout\u001b[0m\u001b[0;34m)\u001b[0m\u001b[0;34m\u001b[0m\u001b[0;34m\u001b[0m\u001b[0m\n\u001b[0m\u001b[1;32m    224\u001b[0m \u001b[0;34m\u001b[0m\u001b[0m\n\u001b[1;32m    225\u001b[0m \u001b[0;32mdef\u001b[0m \u001b[0minstall_opener\u001b[0m\u001b[0;34m(\u001b[0m\u001b[0mopener\u001b[0m\u001b[0;34m)\u001b[0m\u001b[0;34m:\u001b[0m\u001b[0;34m\u001b[0m\u001b[0;34m\u001b[0m\u001b[0m\n",
      "\u001b[0;32m/usr/lib64/python3.6/urllib/request.py\u001b[0m in \u001b[0;36mopen\u001b[0;34m(self, fullurl, data, timeout)\u001b[0m\n\u001b[1;32m    530\u001b[0m         \u001b[0;32mfor\u001b[0m \u001b[0mprocessor\u001b[0m \u001b[0;32min\u001b[0m \u001b[0mself\u001b[0m\u001b[0;34m.\u001b[0m\u001b[0mprocess_response\u001b[0m\u001b[0;34m.\u001b[0m\u001b[0mget\u001b[0m\u001b[0;34m(\u001b[0m\u001b[0mprotocol\u001b[0m\u001b[0;34m,\u001b[0m \u001b[0;34m[\u001b[0m\u001b[0;34m]\u001b[0m\u001b[0;34m)\u001b[0m\u001b[0;34m:\u001b[0m\u001b[0;34m\u001b[0m\u001b[0;34m\u001b[0m\u001b[0m\n\u001b[1;32m    531\u001b[0m             \u001b[0mmeth\u001b[0m \u001b[0;34m=\u001b[0m \u001b[0mgetattr\u001b[0m\u001b[0;34m(\u001b[0m\u001b[0mprocessor\u001b[0m\u001b[0;34m,\u001b[0m \u001b[0mmeth_name\u001b[0m\u001b[0;34m)\u001b[0m\u001b[0;34m\u001b[0m\u001b[0;34m\u001b[0m\u001b[0m\n\u001b[0;32m--> 532\u001b[0;31m             \u001b[0mresponse\u001b[0m \u001b[0;34m=\u001b[0m \u001b[0mmeth\u001b[0m\u001b[0;34m(\u001b[0m\u001b[0mreq\u001b[0m\u001b[0;34m,\u001b[0m \u001b[0mresponse\u001b[0m\u001b[0;34m)\u001b[0m\u001b[0;34m\u001b[0m\u001b[0;34m\u001b[0m\u001b[0m\n\u001b[0m\u001b[1;32m    533\u001b[0m \u001b[0;34m\u001b[0m\u001b[0m\n\u001b[1;32m    534\u001b[0m         \u001b[0;32mreturn\u001b[0m \u001b[0mresponse\u001b[0m\u001b[0;34m\u001b[0m\u001b[0;34m\u001b[0m\u001b[0m\n",
      "\u001b[0;32m/usr/lib64/python3.6/urllib/request.py\u001b[0m in \u001b[0;36mhttp_response\u001b[0;34m(self, request, response)\u001b[0m\n\u001b[1;32m    640\u001b[0m         \u001b[0;32mif\u001b[0m \u001b[0;32mnot\u001b[0m \u001b[0;34m(\u001b[0m\u001b[0;36m200\u001b[0m \u001b[0;34m<=\u001b[0m \u001b[0mcode\u001b[0m \u001b[0;34m<\u001b[0m \u001b[0;36m300\u001b[0m\u001b[0;34m)\u001b[0m\u001b[0;34m:\u001b[0m\u001b[0;34m\u001b[0m\u001b[0;34m\u001b[0m\u001b[0m\n\u001b[1;32m    641\u001b[0m             response = self.parent.error(\n\u001b[0;32m--> 642\u001b[0;31m                 'http', request, response, code, msg, hdrs)\n\u001b[0m\u001b[1;32m    643\u001b[0m \u001b[0;34m\u001b[0m\u001b[0m\n\u001b[1;32m    644\u001b[0m         \u001b[0;32mreturn\u001b[0m \u001b[0mresponse\u001b[0m\u001b[0;34m\u001b[0m\u001b[0;34m\u001b[0m\u001b[0m\n",
      "\u001b[0;32m/usr/lib64/python3.6/urllib/request.py\u001b[0m in \u001b[0;36merror\u001b[0;34m(self, proto, *args)\u001b[0m\n\u001b[1;32m    568\u001b[0m         \u001b[0;32mif\u001b[0m \u001b[0mhttp_err\u001b[0m\u001b[0;34m:\u001b[0m\u001b[0;34m\u001b[0m\u001b[0;34m\u001b[0m\u001b[0m\n\u001b[1;32m    569\u001b[0m             \u001b[0margs\u001b[0m \u001b[0;34m=\u001b[0m \u001b[0;34m(\u001b[0m\u001b[0mdict\u001b[0m\u001b[0;34m,\u001b[0m \u001b[0;34m'default'\u001b[0m\u001b[0;34m,\u001b[0m \u001b[0;34m'http_error_default'\u001b[0m\u001b[0;34m)\u001b[0m \u001b[0;34m+\u001b[0m \u001b[0morig_args\u001b[0m\u001b[0;34m\u001b[0m\u001b[0;34m\u001b[0m\u001b[0m\n\u001b[0;32m--> 570\u001b[0;31m             \u001b[0;32mreturn\u001b[0m \u001b[0mself\u001b[0m\u001b[0;34m.\u001b[0m\u001b[0m_call_chain\u001b[0m\u001b[0;34m(\u001b[0m\u001b[0;34m*\u001b[0m\u001b[0margs\u001b[0m\u001b[0;34m)\u001b[0m\u001b[0;34m\u001b[0m\u001b[0;34m\u001b[0m\u001b[0m\n\u001b[0m\u001b[1;32m    571\u001b[0m \u001b[0;34m\u001b[0m\u001b[0m\n\u001b[1;32m    572\u001b[0m \u001b[0;31m# XXX probably also want an abstract factory that knows when it makes\u001b[0m\u001b[0;34m\u001b[0m\u001b[0;34m\u001b[0m\u001b[0;34m\u001b[0m\u001b[0m\n",
      "\u001b[0;32m/usr/lib64/python3.6/urllib/request.py\u001b[0m in \u001b[0;36m_call_chain\u001b[0;34m(self, chain, kind, meth_name, *args)\u001b[0m\n\u001b[1;32m    502\u001b[0m         \u001b[0;32mfor\u001b[0m \u001b[0mhandler\u001b[0m \u001b[0;32min\u001b[0m \u001b[0mhandlers\u001b[0m\u001b[0;34m:\u001b[0m\u001b[0;34m\u001b[0m\u001b[0;34m\u001b[0m\u001b[0m\n\u001b[1;32m    503\u001b[0m             \u001b[0mfunc\u001b[0m \u001b[0;34m=\u001b[0m \u001b[0mgetattr\u001b[0m\u001b[0;34m(\u001b[0m\u001b[0mhandler\u001b[0m\u001b[0;34m,\u001b[0m \u001b[0mmeth_name\u001b[0m\u001b[0;34m)\u001b[0m\u001b[0;34m\u001b[0m\u001b[0;34m\u001b[0m\u001b[0m\n\u001b[0;32m--> 504\u001b[0;31m             \u001b[0mresult\u001b[0m \u001b[0;34m=\u001b[0m \u001b[0mfunc\u001b[0m\u001b[0;34m(\u001b[0m\u001b[0;34m*\u001b[0m\u001b[0margs\u001b[0m\u001b[0;34m)\u001b[0m\u001b[0;34m\u001b[0m\u001b[0;34m\u001b[0m\u001b[0m\n\u001b[0m\u001b[1;32m    505\u001b[0m             \u001b[0;32mif\u001b[0m \u001b[0mresult\u001b[0m \u001b[0;32mis\u001b[0m \u001b[0;32mnot\u001b[0m \u001b[0;32mNone\u001b[0m\u001b[0;34m:\u001b[0m\u001b[0;34m\u001b[0m\u001b[0;34m\u001b[0m\u001b[0m\n\u001b[1;32m    506\u001b[0m                 \u001b[0;32mreturn\u001b[0m \u001b[0mresult\u001b[0m\u001b[0;34m\u001b[0m\u001b[0;34m\u001b[0m\u001b[0m\n",
      "\u001b[0;32m/usr/lib64/python3.6/urllib/request.py\u001b[0m in \u001b[0;36mhttp_error_default\u001b[0;34m(self, req, fp, code, msg, hdrs)\u001b[0m\n\u001b[1;32m    648\u001b[0m \u001b[0;32mclass\u001b[0m \u001b[0mHTTPDefaultErrorHandler\u001b[0m\u001b[0;34m(\u001b[0m\u001b[0mBaseHandler\u001b[0m\u001b[0;34m)\u001b[0m\u001b[0;34m:\u001b[0m\u001b[0;34m\u001b[0m\u001b[0;34m\u001b[0m\u001b[0m\n\u001b[1;32m    649\u001b[0m     \u001b[0;32mdef\u001b[0m \u001b[0mhttp_error_default\u001b[0m\u001b[0;34m(\u001b[0m\u001b[0mself\u001b[0m\u001b[0;34m,\u001b[0m \u001b[0mreq\u001b[0m\u001b[0;34m,\u001b[0m \u001b[0mfp\u001b[0m\u001b[0;34m,\u001b[0m \u001b[0mcode\u001b[0m\u001b[0;34m,\u001b[0m \u001b[0mmsg\u001b[0m\u001b[0;34m,\u001b[0m \u001b[0mhdrs\u001b[0m\u001b[0;34m)\u001b[0m\u001b[0;34m:\u001b[0m\u001b[0;34m\u001b[0m\u001b[0;34m\u001b[0m\u001b[0m\n\u001b[0;32m--> 650\u001b[0;31m         \u001b[0;32mraise\u001b[0m \u001b[0mHTTPError\u001b[0m\u001b[0;34m(\u001b[0m\u001b[0mreq\u001b[0m\u001b[0;34m.\u001b[0m\u001b[0mfull_url\u001b[0m\u001b[0;34m,\u001b[0m \u001b[0mcode\u001b[0m\u001b[0;34m,\u001b[0m \u001b[0mmsg\u001b[0m\u001b[0;34m,\u001b[0m \u001b[0mhdrs\u001b[0m\u001b[0;34m,\u001b[0m \u001b[0mfp\u001b[0m\u001b[0;34m)\u001b[0m\u001b[0;34m\u001b[0m\u001b[0;34m\u001b[0m\u001b[0m\n\u001b[0m\u001b[1;32m    651\u001b[0m \u001b[0;34m\u001b[0m\u001b[0m\n\u001b[1;32m    652\u001b[0m \u001b[0;32mclass\u001b[0m \u001b[0mHTTPRedirectHandler\u001b[0m\u001b[0;34m(\u001b[0m\u001b[0mBaseHandler\u001b[0m\u001b[0;34m)\u001b[0m\u001b[0;34m:\u001b[0m\u001b[0;34m\u001b[0m\u001b[0;34m\u001b[0m\u001b[0m\n",
      "\u001b[0;31mHTTPError\u001b[0m: HTTP Error 403: Forbidden"
     ]
    }
   ],
   "source": [
    "(train_labels, train_images, test_labels, test_images) = [decode_mnist(fetch_gz(base_url, ds)) for ds in datasets]"
   ]
  },
  {
   "cell_type": "code",
   "execution_count": null,
   "metadata": {},
   "outputs": [],
   "source": [
    "plt.imshow(train_images[0])"
   ]
  },
  {
   "cell_type": "code",
   "execution_count": null,
   "metadata": {},
   "outputs": [],
   "source": [
    "train_labels[0]"
   ]
  },
  {
   "cell_type": "markdown",
   "metadata": {},
   "source": [
    "Lub w bardziej cywilizowany sposób używając gotowych funkcji bibliotek i pobierając dane np. z openml (https://www.openml.org/search?type=data):"
   ]
  },
  {
   "cell_type": "code",
   "execution_count": 15,
   "metadata": {},
   "outputs": [],
   "source": [
    "mnist = fetch_openml(\"mnist_784\")"
   ]
  },
  {
   "cell_type": "code",
   "execution_count": 16,
   "metadata": {},
   "outputs": [
    {
     "data": {
      "text/plain": [
       "<matplotlib.image.AxesImage at 0x7f081e6734e0>"
      ]
     },
     "execution_count": 16,
     "metadata": {},
     "output_type": "execute_result"
    },
    {
     "data": {
      "image/png": "[encoded data removed]",
      "text/plain": [
       "<Figure size 432x288 with 1 Axes>"
      ]
     },
     "metadata": {
      "needs_background": "light"
     },
     "output_type": "display_data"
    }
   ],
   "source": [
    "plt.imshow(np.array(mnist.data[0]).reshape(28,28))"
   ]
  },
  {
   "cell_type": "markdown",
   "metadata": {},
   "source": [
    "### Fashion-MNIST\n",
    "\n",
    "Fashion-MNIST\n",
    "\n",
    "Zbiór analogiczny do MNIST, zawiera obrazy przedstawiające elementy odzieży. 70'000 obrazów 28x28 px w skali szarości. Wskazywany jako następca MNIST ( MNIST jest uznawany za zbyt prosty, zbyt często używany, FMNIST lepiej oddaje współczesne problemy Computer Vision).\n",
    "\n",
    "\n",
    "https://github.com/zalandoresearch/fashion-mnist"
   ]
  },
  {
   "cell_type": "code",
   "execution_count": null,
   "metadata": {},
   "outputs": [],
   "source": [
    "fmnist = fetch_openml(\"Fashion-MNIST\")"
   ]
  },
  {
   "cell_type": "code",
   "execution_count": null,
   "metadata": {},
   "outputs": [],
   "source": [
    "print(fmnist.DESCR)\n",
    "\n",
    "plt.imshow(np.array(fmnist.data[10]).reshape(28,28))\n",
    "print('Category:', fmnist.target[10])"
   ]
  },
  {
   "cell_type": "markdown",
   "metadata": {},
   "source": [
    "### CIFAR-10\n",
    "https://www.cs.toronto.edu/~kriz/cifar.html"
   ]
  },
  {
   "cell_type": "code",
   "execution_count": null,
   "metadata": {},
   "outputs": [],
   "source": [
    "cifar10 = fetch_openml(\"CIFAR_10\")"
   ]
  },
  {
   "cell_type": "code",
   "execution_count": null,
   "metadata": {},
   "outputs": [],
   "source": [
    "print(cifar10.DESCR)\n",
    "\n",
    "single_img_reshaped = np.transpose(np.array(cifar10.data[623]).reshape(3,32,32).astype(int) , (1,2,0))\n",
    "plt.imshow(single_img_reshaped)"
   ]
  },
  {
   "cell_type": "markdown",
   "metadata": {},
   "source": [
    "### SmallNorb\n",
    "\n",
    "https://cs.nyu.edu/~ylclab/data/norb-v1.0-small/"
   ]
  },
  {
   "cell_type": "markdown",
   "metadata": {},
   "source": [
    "### TNG\n",
    "\n",
    "https://github.com/RMHogervorst/TNG"
   ]
  },
  {
   "cell_type": "code",
   "execution_count": 58,
   "metadata": {},
   "outputs": [],
   "source": [
    "TNG_prefix = './TNG'\n",
    "TNG_name = 'ng20.csv'\n",
    "TNG_path = '{}/{}'.format(TNG_prefix, TNG_name)"
   ]
  },
  {
   "cell_type": "code",
   "execution_count": 85,
   "metadata": {},
   "outputs": [
    {
     "data": {
      "text/html": [
       "<div>\n",
       "<style scoped>\n",
       "    .dataframe tbody tr th:only-of-type {\n",
       "        vertical-align: middle;\n",
       "    }\n",
       "\n",
       "    .dataframe tbody tr th {\n",
       "        vertical-align: top;\n",
       "    }\n",
       "\n",
       "    .dataframe thead th {\n",
       "        text-align: right;\n",
       "    }\n",
       "</style>\n",
       "<table border=\"1\" class=\"dataframe\">\n",
       "  <thead>\n",
       "    <tr style=\"text-align: right;\">\n",
       "      <th></th>\n",
       "      <th>0</th>\n",
       "      <th>1</th>\n",
       "      <th>2</th>\n",
       "      <th>3</th>\n",
       "      <th>4</th>\n",
       "      <th>5</th>\n",
       "      <th>6</th>\n",
       "      <th>7</th>\n",
       "      <th>8</th>\n",
       "      <th>9</th>\n",
       "      <th>...</th>\n",
       "      <th>119</th>\n",
       "      <th>120</th>\n",
       "      <th>121</th>\n",
       "      <th>122</th>\n",
       "      <th>123</th>\n",
       "      <th>124</th>\n",
       "      <th>125</th>\n",
       "      <th>126</th>\n",
       "      <th>127</th>\n",
       "      <th>128</th>\n",
       "    </tr>\n",
       "  </thead>\n",
       "  <tbody>\n",
       "    <tr>\n",
       "      <th>0</th>\n",
       "      <td>0.000000</td>\n",
       "      <td>0.000000</td>\n",
       "      <td>0.000000</td>\n",
       "      <td>0.0</td>\n",
       "      <td>0.000000</td>\n",
       "      <td>0.000000</td>\n",
       "      <td>0.0</td>\n",
       "      <td>0.000000</td>\n",
       "      <td>0.000000</td>\n",
       "      <td>0.000000</td>\n",
       "      <td>...</td>\n",
       "      <td>0.000000</td>\n",
       "      <td>12.235819</td>\n",
       "      <td>0.000000</td>\n",
       "      <td>0.0</td>\n",
       "      <td>26.554754</td>\n",
       "      <td>0.000000</td>\n",
       "      <td>0.000000</td>\n",
       "      <td>0.000000</td>\n",
       "      <td>0.0</td>\n",
       "      <td>3.0</td>\n",
       "    </tr>\n",
       "    <tr>\n",
       "      <th>1</th>\n",
       "      <td>0.000000</td>\n",
       "      <td>6.462056</td>\n",
       "      <td>5.265274</td>\n",
       "      <td>0.0</td>\n",
       "      <td>4.559959</td>\n",
       "      <td>0.000000</td>\n",
       "      <td>0.0</td>\n",
       "      <td>0.000000</td>\n",
       "      <td>2.119816</td>\n",
       "      <td>0.000000</td>\n",
       "      <td>...</td>\n",
       "      <td>7.248282</td>\n",
       "      <td>0.000000</td>\n",
       "      <td>2.529904</td>\n",
       "      <td>0.0</td>\n",
       "      <td>0.000000</td>\n",
       "      <td>4.073248</td>\n",
       "      <td>0.000000</td>\n",
       "      <td>1.084394</td>\n",
       "      <td>0.0</td>\n",
       "      <td>9.0</td>\n",
       "    </tr>\n",
       "    <tr>\n",
       "      <th>2</th>\n",
       "      <td>17.636751</td>\n",
       "      <td>0.000000</td>\n",
       "      <td>0.000000</td>\n",
       "      <td>0.0</td>\n",
       "      <td>0.000000</td>\n",
       "      <td>0.000000</td>\n",
       "      <td>0.0</td>\n",
       "      <td>0.000000</td>\n",
       "      <td>0.000000</td>\n",
       "      <td>0.000000</td>\n",
       "      <td>...</td>\n",
       "      <td>0.000000</td>\n",
       "      <td>0.000000</td>\n",
       "      <td>0.000000</td>\n",
       "      <td>0.0</td>\n",
       "      <td>0.000000</td>\n",
       "      <td>0.000000</td>\n",
       "      <td>0.000000</td>\n",
       "      <td>0.000000</td>\n",
       "      <td>0.0</td>\n",
       "      <td>2.0</td>\n",
       "    </tr>\n",
       "    <tr>\n",
       "      <th>3</th>\n",
       "      <td>0.000000</td>\n",
       "      <td>0.000000</td>\n",
       "      <td>0.000000</td>\n",
       "      <td>0.0</td>\n",
       "      <td>0.000000</td>\n",
       "      <td>0.000000</td>\n",
       "      <td>0.0</td>\n",
       "      <td>1.039917</td>\n",
       "      <td>0.000000</td>\n",
       "      <td>0.000000</td>\n",
       "      <td>...</td>\n",
       "      <td>0.000000</td>\n",
       "      <td>0.000000</td>\n",
       "      <td>0.000000</td>\n",
       "      <td>0.0</td>\n",
       "      <td>0.000000</td>\n",
       "      <td>0.000000</td>\n",
       "      <td>2.700282</td>\n",
       "      <td>0.000000</td>\n",
       "      <td>0.0</td>\n",
       "      <td>16.0</td>\n",
       "    </tr>\n",
       "    <tr>\n",
       "      <th>4</th>\n",
       "      <td>0.000000</td>\n",
       "      <td>0.000000</td>\n",
       "      <td>0.000000</td>\n",
       "      <td>0.0</td>\n",
       "      <td>2.074241</td>\n",
       "      <td>0.000000</td>\n",
       "      <td>0.0</td>\n",
       "      <td>0.648221</td>\n",
       "      <td>0.000000</td>\n",
       "      <td>0.000000</td>\n",
       "      <td>...</td>\n",
       "      <td>0.000000</td>\n",
       "      <td>0.000000</td>\n",
       "      <td>0.000000</td>\n",
       "      <td>0.0</td>\n",
       "      <td>0.000000</td>\n",
       "      <td>0.000000</td>\n",
       "      <td>0.000000</td>\n",
       "      <td>0.667010</td>\n",
       "      <td>0.0</td>\n",
       "      <td>15.0</td>\n",
       "    </tr>\n",
       "    <tr>\n",
       "      <th>...</th>\n",
       "      <td>...</td>\n",
       "      <td>...</td>\n",
       "      <td>...</td>\n",
       "      <td>...</td>\n",
       "      <td>...</td>\n",
       "      <td>...</td>\n",
       "      <td>...</td>\n",
       "      <td>...</td>\n",
       "      <td>...</td>\n",
       "      <td>...</td>\n",
       "      <td>...</td>\n",
       "      <td>...</td>\n",
       "      <td>...</td>\n",
       "      <td>...</td>\n",
       "      <td>...</td>\n",
       "      <td>...</td>\n",
       "      <td>...</td>\n",
       "      <td>...</td>\n",
       "      <td>...</td>\n",
       "      <td>...</td>\n",
       "      <td>...</td>\n",
       "    </tr>\n",
       "    <tr>\n",
       "      <th>5649</th>\n",
       "      <td>0.000000</td>\n",
       "      <td>0.000000</td>\n",
       "      <td>0.248722</td>\n",
       "      <td>0.0</td>\n",
       "      <td>0.000000</td>\n",
       "      <td>3.898138</td>\n",
       "      <td>0.0</td>\n",
       "      <td>2.554687</td>\n",
       "      <td>0.000000</td>\n",
       "      <td>4.410306</td>\n",
       "      <td>...</td>\n",
       "      <td>0.000000</td>\n",
       "      <td>0.000000</td>\n",
       "      <td>0.000000</td>\n",
       "      <td>0.0</td>\n",
       "      <td>0.000000</td>\n",
       "      <td>0.785907</td>\n",
       "      <td>0.000000</td>\n",
       "      <td>0.000000</td>\n",
       "      <td>0.0</td>\n",
       "      <td>12.0</td>\n",
       "    </tr>\n",
       "    <tr>\n",
       "      <th>5650</th>\n",
       "      <td>0.000000</td>\n",
       "      <td>0.000000</td>\n",
       "      <td>0.000000</td>\n",
       "      <td>0.0</td>\n",
       "      <td>0.320675</td>\n",
       "      <td>0.000000</td>\n",
       "      <td>0.0</td>\n",
       "      <td>3.230011</td>\n",
       "      <td>0.000000</td>\n",
       "      <td>0.000000</td>\n",
       "      <td>...</td>\n",
       "      <td>0.000000</td>\n",
       "      <td>1.078652</td>\n",
       "      <td>0.000000</td>\n",
       "      <td>0.0</td>\n",
       "      <td>2.671853</td>\n",
       "      <td>0.000000</td>\n",
       "      <td>0.113560</td>\n",
       "      <td>0.000000</td>\n",
       "      <td>0.0</td>\n",
       "      <td>8.0</td>\n",
       "    </tr>\n",
       "    <tr>\n",
       "      <th>5651</th>\n",
       "      <td>0.000000</td>\n",
       "      <td>0.000000</td>\n",
       "      <td>0.000000</td>\n",
       "      <td>0.0</td>\n",
       "      <td>0.000000</td>\n",
       "      <td>0.860070</td>\n",
       "      <td>0.0</td>\n",
       "      <td>1.224586</td>\n",
       "      <td>0.000000</td>\n",
       "      <td>0.457255</td>\n",
       "      <td>...</td>\n",
       "      <td>0.000000</td>\n",
       "      <td>0.000000</td>\n",
       "      <td>0.000000</td>\n",
       "      <td>0.0</td>\n",
       "      <td>0.303810</td>\n",
       "      <td>0.000000</td>\n",
       "      <td>0.000000</td>\n",
       "      <td>0.000000</td>\n",
       "      <td>0.0</td>\n",
       "      <td>4.0</td>\n",
       "    </tr>\n",
       "    <tr>\n",
       "      <th>5652</th>\n",
       "      <td>0.000000</td>\n",
       "      <td>0.000000</td>\n",
       "      <td>0.000000</td>\n",
       "      <td>0.0</td>\n",
       "      <td>0.000000</td>\n",
       "      <td>0.000000</td>\n",
       "      <td>0.0</td>\n",
       "      <td>0.000000</td>\n",
       "      <td>0.000000</td>\n",
       "      <td>0.000000</td>\n",
       "      <td>...</td>\n",
       "      <td>0.000000</td>\n",
       "      <td>8.226898</td>\n",
       "      <td>0.000000</td>\n",
       "      <td>0.0</td>\n",
       "      <td>5.754258</td>\n",
       "      <td>0.000000</td>\n",
       "      <td>0.000000</td>\n",
       "      <td>0.000000</td>\n",
       "      <td>0.0</td>\n",
       "      <td>6.0</td>\n",
       "    </tr>\n",
       "    <tr>\n",
       "      <th>5653</th>\n",
       "      <td>0.000000</td>\n",
       "      <td>0.000000</td>\n",
       "      <td>9.186374</td>\n",
       "      <td>0.0</td>\n",
       "      <td>5.258586</td>\n",
       "      <td>0.000000</td>\n",
       "      <td>0.0</td>\n",
       "      <td>0.000000</td>\n",
       "      <td>0.000000</td>\n",
       "      <td>2.860838</td>\n",
       "      <td>...</td>\n",
       "      <td>0.000000</td>\n",
       "      <td>0.000000</td>\n",
       "      <td>0.000000</td>\n",
       "      <td>0.0</td>\n",
       "      <td>0.000000</td>\n",
       "      <td>0.000000</td>\n",
       "      <td>0.000000</td>\n",
       "      <td>0.000000</td>\n",
       "      <td>0.0</td>\n",
       "      <td>7.0</td>\n",
       "    </tr>\n",
       "  </tbody>\n",
       "</table>\n",
       "<p>5654 rows × 129 columns</p>\n",
       "</div>"
      ],
      "text/plain": [
       "            0         1         2    3         4         5    6         7    \\\n",
       "0      0.000000  0.000000  0.000000  0.0  0.000000  0.000000  0.0  0.000000   \n",
       "1      0.000000  6.462056  5.265274  0.0  4.559959  0.000000  0.0  0.000000   \n",
       "2     17.636751  0.000000  0.000000  0.0  0.000000  0.000000  0.0  0.000000   \n",
       "3      0.000000  0.000000  0.000000  0.0  0.000000  0.000000  0.0  1.039917   \n",
       "4      0.000000  0.000000  0.000000  0.0  2.074241  0.000000  0.0  0.648221   \n",
       "...         ...       ...       ...  ...       ...       ...  ...       ...   \n",
       "5649   0.000000  0.000000  0.248722  0.0  0.000000  3.898138  0.0  2.554687   \n",
       "5650   0.000000  0.000000  0.000000  0.0  0.320675  0.000000  0.0  3.230011   \n",
       "5651   0.000000  0.000000  0.000000  0.0  0.000000  0.860070  0.0  1.224586   \n",
       "5652   0.000000  0.000000  0.000000  0.0  0.000000  0.000000  0.0  0.000000   \n",
       "5653   0.000000  0.000000  9.186374  0.0  5.258586  0.000000  0.0  0.000000   \n",
       "\n",
       "           8         9    ...       119        120       121  122        123  \\\n",
       "0     0.000000  0.000000  ...  0.000000  12.235819  0.000000  0.0  26.554754   \n",
       "1     2.119816  0.000000  ...  7.248282   0.000000  2.529904  0.0   0.000000   \n",
       "2     0.000000  0.000000  ...  0.000000   0.000000  0.000000  0.0   0.000000   \n",
       "3     0.000000  0.000000  ...  0.000000   0.000000  0.000000  0.0   0.000000   \n",
       "4     0.000000  0.000000  ...  0.000000   0.000000  0.000000  0.0   0.000000   \n",
       "...        ...       ...  ...       ...        ...       ...  ...        ...   \n",
       "5649  0.000000  4.410306  ...  0.000000   0.000000  0.000000  0.0   0.000000   \n",
       "5650  0.000000  0.000000  ...  0.000000   1.078652  0.000000  0.0   2.671853   \n",
       "5651  0.000000  0.457255  ...  0.000000   0.000000  0.000000  0.0   0.303810   \n",
       "5652  0.000000  0.000000  ...  0.000000   8.226898  0.000000  0.0   5.754258   \n",
       "5653  0.000000  2.860838  ...  0.000000   0.000000  0.000000  0.0   0.000000   \n",
       "\n",
       "           124       125       126  127   128  \n",
       "0     0.000000  0.000000  0.000000  0.0   3.0  \n",
       "1     4.073248  0.000000  1.084394  0.0   9.0  \n",
       "2     0.000000  0.000000  0.000000  0.0   2.0  \n",
       "3     0.000000  2.700282  0.000000  0.0  16.0  \n",
       "4     0.000000  0.000000  0.667010  0.0  15.0  \n",
       "...        ...       ...       ...  ...   ...  \n",
       "5649  0.785907  0.000000  0.000000  0.0  12.0  \n",
       "5650  0.000000  0.113560  0.000000  0.0   8.0  \n",
       "5651  0.000000  0.000000  0.000000  0.0   4.0  \n",
       "5652  0.000000  0.000000  0.000000  0.0   6.0  \n",
       "5653  0.000000  0.000000  0.000000  0.0   7.0  \n",
       "\n",
       "[5654 rows x 129 columns]"
      ]
     },
     "execution_count": 85,
     "metadata": {},
     "output_type": "execute_result"
    }
   ],
   "source": [
    "TNG = pd.read_csv(TNG_path, header=None)\n",
    "TNG"
   ]
  },
  {
   "cell_type": "markdown",
   "metadata": {},
   "source": [
    "### Communities and Crime Unnormalized"
   ]
  },
  {
   "cell_type": "code",
   "execution_count": 60,
   "metadata": {},
   "outputs": [],
   "source": [
    "cc_prefix = \"./communities_and_crimes\"\n",
    "cc_name = \"crimedata.csv\"\n",
    "cc_path = \"{}/{}\".format(cc_prefix, cc_name)"
   ]
  },
  {
   "cell_type": "code",
   "execution_count": 61,
   "metadata": {},
   "outputs": [],
   "source": [
    "crimes = pd.read_csv(cc_path)"
   ]
  },
  {
   "cell_type": "markdown",
   "metadata": {},
   "source": [
    "## Procedury normalizujące dane i wybierające dane ze zbioru danych\n",
    "\n",
    "TODO: opis procedur"
   ]
  },
  {
   "cell_type": "markdown",
   "metadata": {},
   "source": [
    "### Wybieranie danych\n",
    "\n",
    "Najprostszy sposób na zmniejszenie rozmiaru datasetu - wzięcie n początkowych elementów:\n"
   ]
  },
  {
   "cell_type": "code",
   "execution_count": null,
   "metadata": {},
   "outputs": [],
   "source": [
    "fmnist_zipped = zip(fmnist.data, fmnist.target)\n",
    "fmnist_reduced_list = list(fmnist_zipped)[:1000]\n",
    "\n",
    "fmnist_reduced_data, fmnist_reduced_target = zip(*(fmnist_reduced_list))\n",
    "print((list(fmnist_reduced_target)[0:10]))\n"
   ]
  },
  {
   "cell_type": "markdown",
   "metadata": {},
   "source": [
    "Wzięcie _n_ losowych elementów z datasetu (bez modyfikacji kolejności w źródłowym datasecie):"
   ]
  },
  {
   "cell_type": "code",
   "execution_count": null,
   "metadata": {},
   "outputs": [],
   "source": [
    "fmnist_random_sample = random.sample(fmnist_reduced_list, 100)\n",
    "fmnist_reduced_data, fmnist_reduced_target = zip(*(fmnist_random_sample))\n",
    "print((list(fmnist_reduced_target)[0:10]))"
   ]
  },
  {
   "cell_type": "markdown",
   "metadata": {},
   "source": [
    "Podział danych na zbiór testowy oraz treningowy przy pomocy _sklearn_ :"
   ]
  },
  {
   "cell_type": "code",
   "execution_count": null,
   "metadata": {},
   "outputs": [],
   "source": [
    "X = fmnist.data\n",
    "y = fmnist.target\n",
    "\n",
    "X_train, X_test, y_train, y_test = train_test_split(X, y, test_size=0.2, random_state=42)\n",
    "print('X_train: ', len(X_train), ' y_train: ', len(y_train))\n",
    "print('X_test: ', len(X_test), ' y_test: ', len(y_test))"
   ]
  },
  {
   "cell_type": "markdown",
   "metadata": {},
   "source": [
    "### Normalizacja danych\n",
    "\n",
    "TODO: Opisać bardziej poszczególne metody normalizacji i standaryzacji, dodać przykład ze zdjęciem\n",
    "\n",
    "Normalizację danych wykonamy na danych UCI \"Communities and Crime Unnormalized\", dotyczących przestępczości w USA _(M=2215, N=143)_ .\n",
    "\n",
    "https://archive.ics.uci.edu/ml/datasets/Communities+and+Crime+Unnormalized\n",
    "https://www.kaggle.com/kkanda/communities%20and%20crime%20unnormalized%20data%20set/data"
   ]
  },
  {
   "cell_type": "code",
   "execution_count": 62,
   "metadata": {},
   "outputs": [
    {
     "data": {
      "text/html": [
       "<div>\n",
       "<style scoped>\n",
       "    .dataframe tbody tr th:only-of-type {\n",
       "        vertical-align: middle;\n",
       "    }\n",
       "\n",
       "    .dataframe tbody tr th {\n",
       "        vertical-align: top;\n",
       "    }\n",
       "\n",
       "    .dataframe thead th {\n",
       "        text-align: right;\n",
       "    }\n",
       "</style>\n",
       "<table border=\"1\" class=\"dataframe\">\n",
       "  <thead>\n",
       "    <tr style=\"text-align: right;\">\n",
       "      <th></th>\n",
       "      <th></th>\n",
       "      <th></th>\n",
       "      <th></th>\n",
       "      <th>fold</th>\n",
       "      <th>population</th>\n",
       "      <th>householdsize</th>\n",
       "      <th>racepctblack</th>\n",
       "      <th>racePctWhite</th>\n",
       "      <th>racePctAsian</th>\n",
       "      <th>racePctHisp</th>\n",
       "      <th>agePct12t21</th>\n",
       "      <th>agePct12t29</th>\n",
       "      <th>agePct16t24</th>\n",
       "      <th>...</th>\n",
       "      <th>burglaries</th>\n",
       "      <th>burglPerPop</th>\n",
       "      <th>larcenies</th>\n",
       "      <th>larcPerPop</th>\n",
       "      <th>autoTheft</th>\n",
       "      <th>autoTheftPerPop</th>\n",
       "      <th>arsons</th>\n",
       "      <th>arsonsPerPop</th>\n",
       "      <th>ViolentCrimesPerPop</th>\n",
       "      <th>nonViolPerPop</th>\n",
       "    </tr>\n",
       "    <tr>\n",
       "      <th>communityname</th>\n",
       "      <th>state</th>\n",
       "      <th>countyCode</th>\n",
       "      <th>communityCode</th>\n",
       "      <th></th>\n",
       "      <th></th>\n",
       "      <th></th>\n",
       "      <th></th>\n",
       "      <th></th>\n",
       "      <th></th>\n",
       "      <th></th>\n",
       "      <th></th>\n",
       "      <th></th>\n",
       "      <th></th>\n",
       "      <th></th>\n",
       "      <th></th>\n",
       "      <th></th>\n",
       "      <th></th>\n",
       "      <th></th>\n",
       "      <th></th>\n",
       "      <th></th>\n",
       "      <th></th>\n",
       "      <th></th>\n",
       "      <th></th>\n",
       "      <th></th>\n",
       "    </tr>\n",
       "  </thead>\n",
       "  <tbody>\n",
       "    <tr>\n",
       "      <th>BerkeleyHeightstownship</th>\n",
       "      <th>NJ</th>\n",
       "      <th>39</th>\n",
       "      <th>5320</th>\n",
       "      <td>1</td>\n",
       "      <td>11980</td>\n",
       "      <td>3.10</td>\n",
       "      <td>1.37</td>\n",
       "      <td>91.78</td>\n",
       "      <td>6.50</td>\n",
       "      <td>1.88</td>\n",
       "      <td>12.47</td>\n",
       "      <td>21.44</td>\n",
       "      <td>10.93</td>\n",
       "      <td>...</td>\n",
       "      <td>14</td>\n",
       "      <td>114.85</td>\n",
       "      <td>138</td>\n",
       "      <td>1132.08</td>\n",
       "      <td>16</td>\n",
       "      <td>131.26</td>\n",
       "      <td>2</td>\n",
       "      <td>16.41</td>\n",
       "      <td>41.02</td>\n",
       "      <td>1394.59</td>\n",
       "    </tr>\n",
       "    <tr>\n",
       "      <th>Marpletownship</th>\n",
       "      <th>PA</th>\n",
       "      <th>45</th>\n",
       "      <th>47616</th>\n",
       "      <td>1</td>\n",
       "      <td>23123</td>\n",
       "      <td>2.82</td>\n",
       "      <td>0.80</td>\n",
       "      <td>95.57</td>\n",
       "      <td>3.44</td>\n",
       "      <td>0.85</td>\n",
       "      <td>11.01</td>\n",
       "      <td>21.30</td>\n",
       "      <td>10.48</td>\n",
       "      <td>...</td>\n",
       "      <td>57</td>\n",
       "      <td>242.37</td>\n",
       "      <td>376</td>\n",
       "      <td>1598.78</td>\n",
       "      <td>26</td>\n",
       "      <td>110.55</td>\n",
       "      <td>1</td>\n",
       "      <td>4.25</td>\n",
       "      <td>127.56</td>\n",
       "      <td>1955.95</td>\n",
       "    </tr>\n",
       "    <tr>\n",
       "      <th>Tigardcity</th>\n",
       "      <th>OR</th>\n",
       "      <th>?</th>\n",
       "      <th>?</th>\n",
       "      <td>1</td>\n",
       "      <td>29344</td>\n",
       "      <td>2.43</td>\n",
       "      <td>0.74</td>\n",
       "      <td>94.33</td>\n",
       "      <td>3.43</td>\n",
       "      <td>2.35</td>\n",
       "      <td>11.36</td>\n",
       "      <td>25.88</td>\n",
       "      <td>11.01</td>\n",
       "      <td>...</td>\n",
       "      <td>274</td>\n",
       "      <td>758.14</td>\n",
       "      <td>1797</td>\n",
       "      <td>4972.19</td>\n",
       "      <td>136</td>\n",
       "      <td>376.3</td>\n",
       "      <td>22</td>\n",
       "      <td>60.87</td>\n",
       "      <td>218.59</td>\n",
       "      <td>6167.51</td>\n",
       "    </tr>\n",
       "    <tr>\n",
       "      <th>Gloversvillecity</th>\n",
       "      <th>NY</th>\n",
       "      <th>35</th>\n",
       "      <th>29443</th>\n",
       "      <td>1</td>\n",
       "      <td>16656</td>\n",
       "      <td>2.40</td>\n",
       "      <td>1.70</td>\n",
       "      <td>97.35</td>\n",
       "      <td>0.50</td>\n",
       "      <td>0.70</td>\n",
       "      <td>12.55</td>\n",
       "      <td>25.20</td>\n",
       "      <td>12.19</td>\n",
       "      <td>...</td>\n",
       "      <td>225</td>\n",
       "      <td>1301.78</td>\n",
       "      <td>716</td>\n",
       "      <td>4142.56</td>\n",
       "      <td>47</td>\n",
       "      <td>271.93</td>\n",
       "      <td>NaN</td>\n",
       "      <td>NaN</td>\n",
       "      <td>306.64</td>\n",
       "      <td>NaN</td>\n",
       "    </tr>\n",
       "    <tr>\n",
       "      <th>Bemidjicity</th>\n",
       "      <th>MN</th>\n",
       "      <th>7</th>\n",
       "      <th>5068</th>\n",
       "      <td>1</td>\n",
       "      <td>11245</td>\n",
       "      <td>2.76</td>\n",
       "      <td>0.53</td>\n",
       "      <td>89.16</td>\n",
       "      <td>1.17</td>\n",
       "      <td>0.52</td>\n",
       "      <td>24.46</td>\n",
       "      <td>40.53</td>\n",
       "      <td>28.69</td>\n",
       "      <td>...</td>\n",
       "      <td>91</td>\n",
       "      <td>728.93</td>\n",
       "      <td>1060</td>\n",
       "      <td>8490.87</td>\n",
       "      <td>91</td>\n",
       "      <td>728.93</td>\n",
       "      <td>5</td>\n",
       "      <td>40.05</td>\n",
       "      <td>NaN</td>\n",
       "      <td>9988.79</td>\n",
       "    </tr>\n",
       "    <tr>\n",
       "      <th>...</th>\n",
       "      <th>...</th>\n",
       "      <th>...</th>\n",
       "      <th>...</th>\n",
       "      <td>...</td>\n",
       "      <td>...</td>\n",
       "      <td>...</td>\n",
       "      <td>...</td>\n",
       "      <td>...</td>\n",
       "      <td>...</td>\n",
       "      <td>...</td>\n",
       "      <td>...</td>\n",
       "      <td>...</td>\n",
       "      <td>...</td>\n",
       "      <td>...</td>\n",
       "      <td>...</td>\n",
       "      <td>...</td>\n",
       "      <td>...</td>\n",
       "      <td>...</td>\n",
       "      <td>...</td>\n",
       "      <td>...</td>\n",
       "      <td>...</td>\n",
       "      <td>...</td>\n",
       "      <td>...</td>\n",
       "      <td>...</td>\n",
       "    </tr>\n",
       "    <tr>\n",
       "      <th>Mercedcity</th>\n",
       "      <th>CA</th>\n",
       "      <th>?</th>\n",
       "      <th>?</th>\n",
       "      <td>10</td>\n",
       "      <td>56216</td>\n",
       "      <td>3.07</td>\n",
       "      <td>6.87</td>\n",
       "      <td>61.68</td>\n",
       "      <td>15.23</td>\n",
       "      <td>29.86</td>\n",
       "      <td>15.46</td>\n",
       "      <td>30.16</td>\n",
       "      <td>14.34</td>\n",
       "      <td>...</td>\n",
       "      <td>1376</td>\n",
       "      <td>2268.72</td>\n",
       "      <td>2563</td>\n",
       "      <td>4225.82</td>\n",
       "      <td>489</td>\n",
       "      <td>806.25</td>\n",
       "      <td>34</td>\n",
       "      <td>56.06</td>\n",
       "      <td>545.75</td>\n",
       "      <td>7356.84</td>\n",
       "    </tr>\n",
       "    <tr>\n",
       "      <th>Pinevillecity</th>\n",
       "      <th>LA</th>\n",
       "      <th>?</th>\n",
       "      <th>?</th>\n",
       "      <td>10</td>\n",
       "      <td>12251</td>\n",
       "      <td>2.68</td>\n",
       "      <td>21.18</td>\n",
       "      <td>76.65</td>\n",
       "      <td>1.52</td>\n",
       "      <td>1.29</td>\n",
       "      <td>17.36</td>\n",
       "      <td>31.23</td>\n",
       "      <td>16.97</td>\n",
       "      <td>...</td>\n",
       "      <td>104</td>\n",
       "      <td>860.43</td>\n",
       "      <td>574</td>\n",
       "      <td>4748.9</td>\n",
       "      <td>24</td>\n",
       "      <td>198.56</td>\n",
       "      <td>2</td>\n",
       "      <td>16.55</td>\n",
       "      <td>124.1</td>\n",
       "      <td>5824.44</td>\n",
       "    </tr>\n",
       "    <tr>\n",
       "      <th>Yucaipacity</th>\n",
       "      <th>CA</th>\n",
       "      <th>?</th>\n",
       "      <th>?</th>\n",
       "      <td>10</td>\n",
       "      <td>32824</td>\n",
       "      <td>2.46</td>\n",
       "      <td>0.52</td>\n",
       "      <td>92.62</td>\n",
       "      <td>0.98</td>\n",
       "      <td>11.00</td>\n",
       "      <td>11.81</td>\n",
       "      <td>20.96</td>\n",
       "      <td>9.53</td>\n",
       "      <td>...</td>\n",
       "      <td>628</td>\n",
       "      <td>1709.26</td>\n",
       "      <td>895</td>\n",
       "      <td>2435.97</td>\n",
       "      <td>179</td>\n",
       "      <td>487.19</td>\n",
       "      <td>8</td>\n",
       "      <td>21.77</td>\n",
       "      <td>353.83</td>\n",
       "      <td>4654.2</td>\n",
       "    </tr>\n",
       "    <tr>\n",
       "      <th>Beevillecity</th>\n",
       "      <th>TX</th>\n",
       "      <th>?</th>\n",
       "      <th>?</th>\n",
       "      <td>10</td>\n",
       "      <td>13547</td>\n",
       "      <td>2.89</td>\n",
       "      <td>3.37</td>\n",
       "      <td>69.91</td>\n",
       "      <td>0.90</td>\n",
       "      <td>62.11</td>\n",
       "      <td>17.16</td>\n",
       "      <td>30.01</td>\n",
       "      <td>14.73</td>\n",
       "      <td>...</td>\n",
       "      <td>192</td>\n",
       "      <td>1508.01</td>\n",
       "      <td>474</td>\n",
       "      <td>3722.9</td>\n",
       "      <td>13</td>\n",
       "      <td>102.1</td>\n",
       "      <td>1</td>\n",
       "      <td>7.85</td>\n",
       "      <td>691.17</td>\n",
       "      <td>5340.87</td>\n",
       "    </tr>\n",
       "    <tr>\n",
       "      <th>WestSacramentocity</th>\n",
       "      <th>CA</th>\n",
       "      <th>?</th>\n",
       "      <th>?</th>\n",
       "      <td>10</td>\n",
       "      <td>28898</td>\n",
       "      <td>2.61</td>\n",
       "      <td>2.39</td>\n",
       "      <td>71.27</td>\n",
       "      <td>9.09</td>\n",
       "      <td>24.43</td>\n",
       "      <td>12.99</td>\n",
       "      <td>25.21</td>\n",
       "      <td>11.63</td>\n",
       "      <td>...</td>\n",
       "      <td>791</td>\n",
       "      <td>2614.53</td>\n",
       "      <td>1458</td>\n",
       "      <td>4819.2</td>\n",
       "      <td>405</td>\n",
       "      <td>1338.67</td>\n",
       "      <td>20</td>\n",
       "      <td>66.11</td>\n",
       "      <td>918.89</td>\n",
       "      <td>8838.5</td>\n",
       "    </tr>\n",
       "  </tbody>\n",
       "</table>\n",
       "<p>2215 rows × 143 columns</p>\n",
       "</div>"
      ],
      "text/plain": [
       "                                                        fold  population  \\\n",
       "communityname           state countyCode communityCode                     \n",
       "BerkeleyHeightstownship NJ    39         5320              1       11980   \n",
       "Marpletownship          PA    45         47616             1       23123   \n",
       "Tigardcity              OR    ?          ?                 1       29344   \n",
       "Gloversvillecity        NY    35         29443             1       16656   \n",
       "Bemidjicity             MN    7          5068              1       11245   \n",
       "...                                                      ...         ...   \n",
       "Mercedcity              CA    ?          ?                10       56216   \n",
       "Pinevillecity           LA    ?          ?                10       12251   \n",
       "Yucaipacity             CA    ?          ?                10       32824   \n",
       "Beevillecity            TX    ?          ?                10       13547   \n",
       "WestSacramentocity      CA    ?          ?                10       28898   \n",
       "\n",
       "                                                        householdsize  \\\n",
       "communityname           state countyCode communityCode                  \n",
       "BerkeleyHeightstownship NJ    39         5320                    3.10   \n",
       "Marpletownship          PA    45         47616                   2.82   \n",
       "Tigardcity              OR    ?          ?                       2.43   \n",
       "Gloversvillecity        NY    35         29443                   2.40   \n",
       "Bemidjicity             MN    7          5068                    2.76   \n",
       "...                                                               ...   \n",
       "Mercedcity              CA    ?          ?                       3.07   \n",
       "Pinevillecity           LA    ?          ?                       2.68   \n",
       "Yucaipacity             CA    ?          ?                       2.46   \n",
       "Beevillecity            TX    ?          ?                       2.89   \n",
       "WestSacramentocity      CA    ?          ?                       2.61   \n",
       "\n",
       "                                                        racepctblack  \\\n",
       "communityname           state countyCode communityCode                 \n",
       "BerkeleyHeightstownship NJ    39         5320                   1.37   \n",
       "Marpletownship          PA    45         47616                  0.80   \n",
       "Tigardcity              OR    ?          ?                      0.74   \n",
       "Gloversvillecity        NY    35         29443                  1.70   \n",
       "Bemidjicity             MN    7          5068                   0.53   \n",
       "...                                                              ...   \n",
       "Mercedcity              CA    ?          ?                      6.87   \n",
       "Pinevillecity           LA    ?          ?                     21.18   \n",
       "Yucaipacity             CA    ?          ?                      0.52   \n",
       "Beevillecity            TX    ?          ?                      3.37   \n",
       "WestSacramentocity      CA    ?          ?                      2.39   \n",
       "\n",
       "                                                        racePctWhite  \\\n",
       "communityname           state countyCode communityCode                 \n",
       "BerkeleyHeightstownship NJ    39         5320                  91.78   \n",
       "Marpletownship          PA    45         47616                 95.57   \n",
       "Tigardcity              OR    ?          ?                     94.33   \n",
       "Gloversvillecity        NY    35         29443                 97.35   \n",
       "Bemidjicity             MN    7          5068                  89.16   \n",
       "...                                                              ...   \n",
       "Mercedcity              CA    ?          ?                     61.68   \n",
       "Pinevillecity           LA    ?          ?                     76.65   \n",
       "Yucaipacity             CA    ?          ?                     92.62   \n",
       "Beevillecity            TX    ?          ?                     69.91   \n",
       "WestSacramentocity      CA    ?          ?                     71.27   \n",
       "\n",
       "                                                        racePctAsian  \\\n",
       "communityname           state countyCode communityCode                 \n",
       "BerkeleyHeightstownship NJ    39         5320                   6.50   \n",
       "Marpletownship          PA    45         47616                  3.44   \n",
       "Tigardcity              OR    ?          ?                      3.43   \n",
       "Gloversvillecity        NY    35         29443                  0.50   \n",
       "Bemidjicity             MN    7          5068                   1.17   \n",
       "...                                                              ...   \n",
       "Mercedcity              CA    ?          ?                     15.23   \n",
       "Pinevillecity           LA    ?          ?                      1.52   \n",
       "Yucaipacity             CA    ?          ?                      0.98   \n",
       "Beevillecity            TX    ?          ?                      0.90   \n",
       "WestSacramentocity      CA    ?          ?                      9.09   \n",
       "\n",
       "                                                        racePctHisp  \\\n",
       "communityname           state countyCode communityCode                \n",
       "BerkeleyHeightstownship NJ    39         5320                  1.88   \n",
       "Marpletownship          PA    45         47616                 0.85   \n",
       "Tigardcity              OR    ?          ?                     2.35   \n",
       "Gloversvillecity        NY    35         29443                 0.70   \n",
       "Bemidjicity             MN    7          5068                  0.52   \n",
       "...                                                             ...   \n",
       "Mercedcity              CA    ?          ?                    29.86   \n",
       "Pinevillecity           LA    ?          ?                     1.29   \n",
       "Yucaipacity             CA    ?          ?                    11.00   \n",
       "Beevillecity            TX    ?          ?                    62.11   \n",
       "WestSacramentocity      CA    ?          ?                    24.43   \n",
       "\n",
       "                                                        agePct12t21  \\\n",
       "communityname           state countyCode communityCode                \n",
       "BerkeleyHeightstownship NJ    39         5320                 12.47   \n",
       "Marpletownship          PA    45         47616                11.01   \n",
       "Tigardcity              OR    ?          ?                    11.36   \n",
       "Gloversvillecity        NY    35         29443                12.55   \n",
       "Bemidjicity             MN    7          5068                 24.46   \n",
       "...                                                             ...   \n",
       "Mercedcity              CA    ?          ?                    15.46   \n",
       "Pinevillecity           LA    ?          ?                    17.36   \n",
       "Yucaipacity             CA    ?          ?                    11.81   \n",
       "Beevillecity            TX    ?          ?                    17.16   \n",
       "WestSacramentocity      CA    ?          ?                    12.99   \n",
       "\n",
       "                                                        agePct12t29  \\\n",
       "communityname           state countyCode communityCode                \n",
       "BerkeleyHeightstownship NJ    39         5320                 21.44   \n",
       "Marpletownship          PA    45         47616                21.30   \n",
       "Tigardcity              OR    ?          ?                    25.88   \n",
       "Gloversvillecity        NY    35         29443                25.20   \n",
       "Bemidjicity             MN    7          5068                 40.53   \n",
       "...                                                             ...   \n",
       "Mercedcity              CA    ?          ?                    30.16   \n",
       "Pinevillecity           LA    ?          ?                    31.23   \n",
       "Yucaipacity             CA    ?          ?                    20.96   \n",
       "Beevillecity            TX    ?          ?                    30.01   \n",
       "WestSacramentocity      CA    ?          ?                    25.21   \n",
       "\n",
       "                                                        agePct16t24  ...  \\\n",
       "communityname           state countyCode communityCode               ...   \n",
       "BerkeleyHeightstownship NJ    39         5320                 10.93  ...   \n",
       "Marpletownship          PA    45         47616                10.48  ...   \n",
       "Tigardcity              OR    ?          ?                    11.01  ...   \n",
       "Gloversvillecity        NY    35         29443                12.19  ...   \n",
       "Bemidjicity             MN    7          5068                 28.69  ...   \n",
       "...                                                             ...  ...   \n",
       "Mercedcity              CA    ?          ?                    14.34  ...   \n",
       "Pinevillecity           LA    ?          ?                    16.97  ...   \n",
       "Yucaipacity             CA    ?          ?                     9.53  ...   \n",
       "Beevillecity            TX    ?          ?                    14.73  ...   \n",
       "WestSacramentocity      CA    ?          ?                    11.63  ...   \n",
       "\n",
       "                                                        burglaries  \\\n",
       "communityname           state countyCode communityCode               \n",
       "BerkeleyHeightstownship NJ    39         5320                   14   \n",
       "Marpletownship          PA    45         47616                  57   \n",
       "Tigardcity              OR    ?          ?                     274   \n",
       "Gloversvillecity        NY    35         29443                 225   \n",
       "Bemidjicity             MN    7          5068                   91   \n",
       "...                                                            ...   \n",
       "Mercedcity              CA    ?          ?                    1376   \n",
       "Pinevillecity           LA    ?          ?                     104   \n",
       "Yucaipacity             CA    ?          ?                     628   \n",
       "Beevillecity            TX    ?          ?                     192   \n",
       "WestSacramentocity      CA    ?          ?                     791   \n",
       "\n",
       "                                                        burglPerPop  \\\n",
       "communityname           state countyCode communityCode                \n",
       "BerkeleyHeightstownship NJ    39         5320                114.85   \n",
       "Marpletownship          PA    45         47616               242.37   \n",
       "Tigardcity              OR    ?          ?                   758.14   \n",
       "Gloversvillecity        NY    35         29443              1301.78   \n",
       "Bemidjicity             MN    7          5068                728.93   \n",
       "...                                                             ...   \n",
       "Mercedcity              CA    ?          ?                  2268.72   \n",
       "Pinevillecity           LA    ?          ?                   860.43   \n",
       "Yucaipacity             CA    ?          ?                  1709.26   \n",
       "Beevillecity            TX    ?          ?                  1508.01   \n",
       "WestSacramentocity      CA    ?          ?                  2614.53   \n",
       "\n",
       "                                                        larcenies  larcPerPop  \\\n",
       "communityname           state countyCode communityCode                          \n",
       "BerkeleyHeightstownship NJ    39         5320                 138     1132.08   \n",
       "Marpletownship          PA    45         47616                376     1598.78   \n",
       "Tigardcity              OR    ?          ?                   1797     4972.19   \n",
       "Gloversvillecity        NY    35         29443                716     4142.56   \n",
       "Bemidjicity             MN    7          5068                1060     8490.87   \n",
       "...                                                           ...         ...   \n",
       "Mercedcity              CA    ?          ?                   2563     4225.82   \n",
       "Pinevillecity           LA    ?          ?                    574      4748.9   \n",
       "Yucaipacity             CA    ?          ?                    895     2435.97   \n",
       "Beevillecity            TX    ?          ?                    474      3722.9   \n",
       "WestSacramentocity      CA    ?          ?                   1458      4819.2   \n",
       "\n",
       "                                                        autoTheft  \\\n",
       "communityname           state countyCode communityCode              \n",
       "BerkeleyHeightstownship NJ    39         5320                  16   \n",
       "Marpletownship          PA    45         47616                 26   \n",
       "Tigardcity              OR    ?          ?                    136   \n",
       "Gloversvillecity        NY    35         29443                 47   \n",
       "Bemidjicity             MN    7          5068                  91   \n",
       "...                                                           ...   \n",
       "Mercedcity              CA    ?          ?                    489   \n",
       "Pinevillecity           LA    ?          ?                     24   \n",
       "Yucaipacity             CA    ?          ?                    179   \n",
       "Beevillecity            TX    ?          ?                     13   \n",
       "WestSacramentocity      CA    ?          ?                    405   \n",
       "\n",
       "                                                        autoTheftPerPop  \\\n",
       "communityname           state countyCode communityCode                    \n",
       "BerkeleyHeightstownship NJ    39         5320                    131.26   \n",
       "Marpletownship          PA    45         47616                   110.55   \n",
       "Tigardcity              OR    ?          ?                        376.3   \n",
       "Gloversvillecity        NY    35         29443                   271.93   \n",
       "Bemidjicity             MN    7          5068                    728.93   \n",
       "...                                                                 ...   \n",
       "Mercedcity              CA    ?          ?                       806.25   \n",
       "Pinevillecity           LA    ?          ?                       198.56   \n",
       "Yucaipacity             CA    ?          ?                       487.19   \n",
       "Beevillecity            TX    ?          ?                        102.1   \n",
       "WestSacramentocity      CA    ?          ?                      1338.67   \n",
       "\n",
       "                                                        arsons  arsonsPerPop  \\\n",
       "communityname           state countyCode communityCode                         \n",
       "BerkeleyHeightstownship NJ    39         5320                2         16.41   \n",
       "Marpletownship          PA    45         47616               1          4.25   \n",
       "Tigardcity              OR    ?          ?                  22         60.87   \n",
       "Gloversvillecity        NY    35         29443             NaN           NaN   \n",
       "Bemidjicity             MN    7          5068                5         40.05   \n",
       "...                                                        ...           ...   \n",
       "Mercedcity              CA    ?          ?                  34         56.06   \n",
       "Pinevillecity           LA    ?          ?                   2         16.55   \n",
       "Yucaipacity             CA    ?          ?                   8         21.77   \n",
       "Beevillecity            TX    ?          ?                   1          7.85   \n",
       "WestSacramentocity      CA    ?          ?                  20         66.11   \n",
       "\n",
       "                                                        ViolentCrimesPerPop  \\\n",
       "communityname           state countyCode communityCode                        \n",
       "BerkeleyHeightstownship NJ    39         5320                         41.02   \n",
       "Marpletownship          PA    45         47616                       127.56   \n",
       "Tigardcity              OR    ?          ?                           218.59   \n",
       "Gloversvillecity        NY    35         29443                       306.64   \n",
       "Bemidjicity             MN    7          5068                           NaN   \n",
       "...                                                                     ...   \n",
       "Mercedcity              CA    ?          ?                           545.75   \n",
       "Pinevillecity           LA    ?          ?                            124.1   \n",
       "Yucaipacity             CA    ?          ?                           353.83   \n",
       "Beevillecity            TX    ?          ?                           691.17   \n",
       "WestSacramentocity      CA    ?          ?                           918.89   \n",
       "\n",
       "                                                        nonViolPerPop  \n",
       "communityname           state countyCode communityCode                 \n",
       "BerkeleyHeightstownship NJ    39         5320                 1394.59  \n",
       "Marpletownship          PA    45         47616                1955.95  \n",
       "Tigardcity              OR    ?          ?                    6167.51  \n",
       "Gloversvillecity        NY    35         29443                    NaN  \n",
       "Bemidjicity             MN    7          5068                 9988.79  \n",
       "...                                                               ...  \n",
       "Mercedcity              CA    ?          ?                    7356.84  \n",
       "Pinevillecity           LA    ?          ?                    5824.44  \n",
       "Yucaipacity             CA    ?          ?                     4654.2  \n",
       "Beevillecity            TX    ?          ?                    5340.87  \n",
       "WestSacramentocity      CA    ?          ?                     8838.5  \n",
       "\n",
       "[2215 rows x 143 columns]"
      ]
     },
     "execution_count": 62,
     "metadata": {},
     "output_type": "execute_result"
    }
   ],
   "source": [
    "cc_df = crimes.set_index(['communityname', 'state', 'countyCode', 'communityCode']).replace('?', np.NaN)\n",
    "cc_df"
   ]
  },
  {
   "cell_type": "markdown",
   "metadata": {},
   "source": [
    "#### Uzupełnianie brakujących danych"
   ]
  },
  {
   "cell_type": "code",
   "execution_count": null,
   "metadata": {},
   "outputs": [],
   "source": [
    "imp=SimpleImputer(missing_values=np.NaN, strategy='mean')\n",
    "\n",
    "cc_df_filled = pd.DataFrame(imp.fit_transform(cc_df.values), index=cc_df.index, columns=cc_df.columns)\n",
    "cc_df_filled"
   ]
  },
  {
   "cell_type": "markdown",
   "metadata": {},
   "source": [
    "#### Skalowanie Min-Max"
   ]
  },
  {
   "cell_type": "code",
   "execution_count": null,
   "metadata": {},
   "outputs": [],
   "source": [
    "minmax = MinMaxScaler(feature_range=(0,1))\n",
    "minmax_df = minmax.fit_transform(cc_df_filled)\n",
    "df_scaled = pd.DataFrame(minmax_df, columns=cc_df_filled.columns, index=cc_df_filled.index)\n",
    "df_scaled"
   ]
  },
  {
   "cell_type": "markdown",
   "metadata": {},
   "source": [
    "#### Standaryzacja"
   ]
  },
  {
   "cell_type": "code",
   "execution_count": null,
   "metadata": {},
   "outputs": [],
   "source": [
    "standscaler = StandardScaler()\n",
    "standscaler_df = standscaler.fit_transform(cc_df_filled)\n",
    "st_df = pd.DataFrame(standscaler_df, columns=cc_df_filled.columns, index=cc_df_filled.index)\n",
    "st_df"
   ]
  },
  {
   "cell_type": "markdown",
   "metadata": {},
   "source": [
    "#### Normalizacja"
   ]
  },
  {
   "cell_type": "code",
   "execution_count": null,
   "metadata": {},
   "outputs": [],
   "source": [
    "norm = Normalizer(norm='l2')\n",
    "norm_df = norm.fit_transform(cc_df_filled)\n",
    "norm_df = pd.DataFrame(norm_df, columns=cc_df_filled.columns, index=cc_df_filled.index)\n",
    "norm_df"
   ]
  },
  {
   "cell_type": "code",
   "execution_count": null,
   "metadata": {},
   "outputs": [],
   "source": [
    "norm = Normalizer(norm='l1')\n",
    "norm_df = norm.fit_transform(cc_df_filled)\n",
    "norm_df = pd.DataFrame(norm_df, columns=cc_df_filled.columns, index=cc_df_filled.index)\n",
    "norm_df"
   ]
  },
  {
   "cell_type": "markdown",
   "metadata": {},
   "source": [
    "#### Binaryzacja"
   ]
  },
  {
   "cell_type": "code",
   "execution_count": null,
   "metadata": {},
   "outputs": [],
   "source": [
    "binarizer = Binarizer(threshold=10.0).fit_transform(cc_df_filled)\n",
    "binary_df = pd.DataFrame(binarizer, columns=cc_df_filled.columns, index=cc_df_filled.index)\n",
    "binary_df"
   ]
  },
  {
   "cell_type": "markdown",
   "metadata": {},
   "source": [
    "## Algorytm k-NN\n",
    "\n",
    "Algorytm kNN (k najbliższych sąsiadów) oblicza dystans każdy-do-każdego w przestrzeni euklidesowej, po czym wybiera k najbliższych obiektów do rozważanego. Te k najbliższych sąsiadów uznaje się, że są najbardziej zbliżone cechami. Dla każdego punktu w przestrzeni bierzemy k najbliższych sąsiadów i przypisujemy go do klasy z etykietą, którą ma większość okolicznych punktów danych (tzw. majority voting)."
   ]
  },
  {
   "cell_type": "markdown",
   "metadata": {},
   "source": [
    "#### Przykładowe wyszukanie najbliższego sąsiada"
   ]
  },
  {
   "cell_type": "code",
   "execution_count": null,
   "metadata": {},
   "outputs": [],
   "source": [
    "from sklearn.neighbors import NearestNeighbors\n",
    "import numpy as np\n",
    "\n",
    "#n_neighbors - k z kNN\n",
    "X = np.array([[-1, -1], [-2, -1], [-3, -2], [1, 1], [2, 1], [3, 2]])\n",
    "nbrs = NearestNeighbors(n_neighbors=2, algorithm='ball_tree').fit(X)\n",
    "distances, indices = nbrs.kneighbors(X)\n",
    "print(distances)\n",
    "print(indices)"
   ]
  },
  {
   "cell_type": "markdown",
   "metadata": {},
   "source": [
    "#### Przykładowe wykorzystanie\n",
    "\n",
    "Poeksperymentuj z n_neighbors i zobacz, jak zmienia się przydział danego obszaru do klas."
   ]
  },
  {
   "cell_type": "code",
   "execution_count": null,
   "metadata": {},
   "outputs": [],
   "source": [
    "import numpy as np\n",
    "import matplotlib.pyplot as plt\n",
    "from matplotlib.colors import ListedColormap\n",
    "from sklearn import neighbors, datasets\n",
    "\n",
    "n_neighbors = 10\n",
    "\n",
    "# importujemy przykładowy zbiór danych\n",
    "iris = datasets.load_iris()\n",
    "\n",
    "# bierzemy tylko 2 pierwsze wymiary z danych (żeby łatwo wizualizować)\n",
    "X = iris.data[:, :2]\n",
    "y = iris.target\n",
    "\n",
    "h = .02  # jak duży rozmiar obszarów rozważanych\n",
    "\n",
    "# mapy kolorków do wyświetlania\n",
    "cmap_light = ListedColormap(['orange', 'cyan', 'cornflowerblue'])\n",
    "cmap_bold = ListedColormap(['darkorange', 'c', 'darkblue'])\n",
    "\n",
    "for weights in ['uniform', 'distance']:\n",
    "    # Używamy klasyfikatora i fitujemy dane\n",
    "    clf = neighbors.KNeighborsClassifier(n_neighbors, weights=weights)\n",
    "    clf.fit(X, y)\n",
    "\n",
    "    x_min, x_max = X[:, 0].min() - 1, X[:, 0].max() + 1\n",
    "    y_min, y_max = X[:, 1].min() - 1, X[:, 1].max() + 1\n",
    "    xx, yy = np.meshgrid(np.arange(x_min, x_max, h),\n",
    "                         np.arange(y_min, y_max, h))\n",
    "    Z = clf.predict(np.c_[xx.ravel(), yy.ravel()])\n",
    "\n",
    "    # Rezultat dodajemy do mapy\n",
    "    Z = Z.reshape(xx.shape)\n",
    "    plt.figure()\n",
    "    plt.pcolormesh(xx, yy, Z, cmap=cmap_light)\n",
    "\n",
    "    # Rysujemy też punkty danych\n",
    "    plt.scatter(X[:, 0], X[:, 1], c=y, cmap=cmap_bold,\n",
    "                edgecolor='k', s=20)\n",
    "    plt.xlim(xx.min(), xx.max())\n",
    "    plt.ylim(yy.min(), yy.max())\n",
    "    plt.title(\"3-Class classification (k = %i, weights = '%s')\"\n",
    "              % (n_neighbors, weights))\n",
    "\n",
    "plt.show()"
   ]
  },
  {
   "attachments": {
    "image.png": {
     "image/png": "[encoded data removed]"
    }
   },
   "cell_type": "markdown",
   "metadata": {},
   "source": [
    "### FAISS\n",
    "\n",
    "Biblioteka do szybkiego liczenia, wykorzystująca CUDA, znacznie przyśpiesza obliczenia dzięki użyciu GPU.\n",
    "\n",
    "https://github.com/facebookresearch/faiss\n",
    "\n",
    "#### Porównanie ilości przetwarzanych danych na sekundę\n",
    "![image.png](attachment:image.png)\n",
    "\n",
    "#### Dla odważnych (z Nvidią i CUDA) Instalacja i wykorzystanie w praktyce\n",
    "\n",
    "https://github.com/facebookresearch/faiss/blob/master/INSTALL.md"
   ]
  },
  {
   "cell_type": "code",
   "execution_count": null,
   "metadata": {},
   "outputs": [],
   "source": [
    "import faiss\n",
    "\n",
    "dimension = 128    # dimensions of each vector                         \n",
    "n = 200    # number of vectors                   \n",
    "np.random.seed(1)             \n",
    "db_vectors = np.random.random((n, dimension)).astype('float32')\n",
    "\n",
    "nlist = 5  # number of clusters\n",
    "quantiser = faiss.IndexFlatL2(dimension)  \n",
    "index = faiss.IndexIVFFlat(quantiser, dimension, nlist, faiss.METRIC_L2)\n",
    "\n",
    "index.train(db_vectors)  # train on the database vectors\n",
    "index.add(db_vectors)   # add the vectors and update the index\n",
    "print(index.is_trained)  # True\n",
    "print(index.ntotal)   # 200\n",
    "\n",
    "nprobe = 2  # find 2 most similar clusters\n",
    "n_query = 10  \n",
    "k = 3  # return 3 nearest neighbours\n",
    "np.random.seed(0)   \n",
    "query_vectors = np.random.random((n_query, dimension)).astype('float32')\n",
    "distances, indices = index.search(query_vectors, k)"
   ]
  },
  {
   "cell_type": "markdown",
   "metadata": {},
   "source": [
    "## Miary jakości klasyfikatora\n",
    "\n",
    "- cross validation (scikit learn)\n",
    "- leave-one-out\n",
    "\n",
    "przykładowy dataset:\n",
    "https://www.kaggle.com/uciml/breast-cancer-wisconsin-data"
   ]
  },
  {
   "cell_type": "code",
   "execution_count": null,
   "metadata": {},
   "outputs": [],
   "source": [
    "print(\"TODO: czy tutaj dać jakieś polecenia?\")"
   ]
  },
  {
   "cell_type": "markdown",
   "metadata": {},
   "source": [
    "## Zmiana miary jakości w zależności od zmniejszenia zbioru uczącego \n",
    "(stosunek dane uczące -> testowe)"
   ]
  },
  {
   "cell_type": "code",
   "execution_count": null,
   "metadata": {},
   "outputs": [],
   "source": [
    "print(\"TODO: przykładowe wywołania poleceń z opisem argumentów + zadanie czy można poprawić jakość\")"
   ]
  },
  {
   "cell_type": "markdown",
   "metadata": {},
   "source": [
    "## Regularyzacja zbioru z małą ilością danych przez augmentację\n",
    "\n",
    "Augumentacja (rozszerzanie) polega na dodawaniu do zbioru nowych elementów poprzez zastosowanie różnorodnych transformacji dla elementów już istniejących. Jest ona powszechnie wykorzystywana w uczeniu maszynowym, ponieważ generowanie dużych zbiorów danych jest często trudne, a czasem nawet i niemożliwe. \\\n",
    "\\\n",
    "W zależności od zbioru danych można stosować różne operację je modyfikujące np. dodawanie szumów, interpolacja lub ekstrapolacja.\n",
    "\n",
    "TODO: pokazać jak zmieniają się miary jakości przy różnym stopniu nasilenia augmentacji (np interpolowanie zbioru punktami między już istniejącymi)"
   ]
  },
  {
   "cell_type": "code",
   "execution_count": 86,
   "metadata": {},
   "outputs": [],
   "source": [
    "def augment(dataset):\n",
    "    return dataset"
   ]
  },
  {
   "cell_type": "code",
   "execution_count": 87,
   "metadata": {},
   "outputs": [],
   "source": [
    "y = np.array(TNG[128])\n",
    "X = np.array(TNG[range(0,128)])"
   ]
  },
  {
   "cell_type": "code",
   "execution_count": 98,
   "metadata": {},
   "outputs": [
    {
     "data": {
      "text/plain": [
       "0.812555260831123"
      ]
     },
     "execution_count": 98,
     "metadata": {},
     "output_type": "execute_result"
    }
   ],
   "source": [
    "from sklearn import neighbors\n",
    "from sklearn.metrics import accuracy_score\n",
    "\n",
    "X_train, X_test, y_train, y_test = train_test_split(X, y, test_size=0.2)"
   ]
  },
  {
   "cell_type": "code",
   "execution_count": 100,
   "metadata": {},
   "outputs": [],
   "source": [
    "def check_TNG_accuracy(X_train, X_test, y_train, y_test):\n",
    "    clf = neighbors.KNeighborsClassifier(10)\n",
    "    clf.fit(X_train, y_train)\n",
    "    y_predicted = clf.predict(X_test)\n",
    "    return accuracy_score(y_test, y_predicted)"
   ]
  },
  {
   "cell_type": "code",
   "execution_count": 101,
   "metadata": {},
   "outputs": [
    {
     "name": "stdout",
     "output_type": "stream",
     "text": [
      "Non augmented set accuracy: 0.812555260831123\n",
      "Augmented set accuracy: 0.812555260831123\n"
     ]
    }
   ],
   "source": [
    "print(\"Non augmented set accuracy: {}\".format(check_TNG_accuracy(X_train, X_test, y_train, y_test)))\n",
    "print(\"Augmented set accuracy: {}\".format(check_TNG_accuracy(X_train, X_test, y_train, y_test)))"
   ]
  },
  {
   "cell_type": "markdown",
   "metadata": {},
   "source": [
    "## Procedury augmentacyjne z imgaug\n",
    "\n",
    "Biblioteka imgaug służy do rozszerzenia zbiorów danych złożonych z obrazków. Pozwala ona wykonać wiele operacji (przez np. przycięcie obrazków, nałożenie szumów, zmianę kontrastu, zmianę perspektywy) dzięki czemu otrzymujemy większy zbiór danych. \n",
    "\n",
    "https://github.com/aleju/imgaug"
   ]
  },
  {
   "cell_type": "code",
   "execution_count": 20,
   "metadata": {},
   "outputs": [
    {
     "data": {
      "text/plain": [
       "<matplotlib.image.AxesImage at 0x7f080cd58630>"
      ]
     },
     "execution_count": 20,
     "metadata": {},
     "output_type": "execute_result"
    },
    {
     "data": {
      "image/png": "[encoded data removed]",
      "text/plain": [
       "<Figure size 432x288 with 1 Axes>"
      ]
     },
     "metadata": {
      "needs_background": "light"
     },
     "output_type": "display_data"
    }
   ],
   "source": [
    "image = np.array(mnist.data[0]).reshape(28,28)\n",
    "plt.imshow(image)"
   ]
  },
  {
   "cell_type": "markdown",
   "metadata": {},
   "source": [
    "### Przycięcie obrazka"
   ]
  },
  {
   "cell_type": "code",
   "execution_count": 24,
   "metadata": {},
   "outputs": [
    {
     "data": {
      "text/plain": [
       "<matplotlib.image.AxesImage at 0x7f080cc85dd8>"
      ]
     },
     "execution_count": 24,
     "metadata": {},
     "output_type": "execute_result"
    },
    {
     "data": {
      "image/png": "[encoded data removed]",
      "text/plain": [
       "<Figure size 432x288 with 1 Axes>"
      ]
     },
     "metadata": {
      "needs_background": "light"
     },
     "output_type": "display_data"
    }
   ],
   "source": [
    "crop = iaa.Crop(px=(1, 5)) # przytnij od 1 do 5 pixeli z każdej strony\n",
    "cropped = crop(images=[image])\n",
    "\n",
    "plt.imshow(cropped[0])"
   ]
  },
  {
   "cell_type": "markdown",
   "metadata": {},
   "source": [
    "### Rozmycie obrazka"
   ]
  },
  {
   "cell_type": "code",
   "execution_count": 26,
   "metadata": {},
   "outputs": [
    {
     "data": {
      "text/plain": [
       "<matplotlib.image.AxesImage at 0x7f080cbe0fd0>"
      ]
     },
     "execution_count": 26,
     "metadata": {},
     "output_type": "execute_result"
    },
    {
     "data": {
      "image/png": "[encoded data removed]",
      "text/plain": [
       "<Figure size 432x288 with 1 Axes>"
      ]
     },
     "metadata": {
      "needs_background": "light"
     },
     "output_type": "display_data"
    }
   ],
   "source": [
    "blur = iaa.GaussianBlur(sigma=(2.0, 3.0))\n",
    "blurred = blur(images=[image])\n",
    "\n",
    "plt.imshow(blurred[0])"
   ]
  },
  {
   "cell_type": "markdown",
   "metadata": {},
   "source": [
    "### Obrót obrazka"
   ]
  },
  {
   "cell_type": "code",
   "execution_count": 36,
   "metadata": {},
   "outputs": [
    {
     "data": {
      "text/plain": [
       "<matplotlib.image.AxesImage at 0x7f080cf6bac8>"
      ]
     },
     "execution_count": 36,
     "metadata": {},
     "output_type": "execute_result"
    },
    {
     "data": {
      "image/png": "[encoded data removed]",
      "text/plain": [
       "<Figure size 432x288 with 1 Axes>"
      ]
     },
     "metadata": {
      "needs_background": "light"
     },
     "output_type": "display_data"
    }
   ],
   "source": [
    "rotate = iaa.Affine(rotate=(-15, 15))\n",
    "rotated = rotate(images=[image])\n",
    "\n",
    "plt.imshow(rotated[0])"
   ]
  },
  {
   "cell_type": "markdown",
   "metadata": {},
   "source": [
    "### Ciąg operacji na zbiorze"
   ]
  },
  {
   "cell_type": "code",
   "execution_count": 50,
   "metadata": {},
   "outputs": [
    {
     "name": "stdout",
     "output_type": "stream",
     "text": [
      "100\n"
     ]
    }
   ],
   "source": [
    "seq = iaa.Sequential([\n",
    "    iaa.Sometimes(0.7, iaa.GaussianBlur(sigma=(2.0, 3.0))),\n",
    "    iaa.Affine(rotate=(-15, 15))\n",
    "])\n",
    "\n",
    "#tutaj polecam zastosować lepsze wybieranie danych\n",
    "images = [np.array(i).reshape(28,28) for i in mnist.data[:100]]\n",
    "augmented_images = seq(images=images)\n",
    "\n",
    "print(len(augmented_images))"
   ]
  },
  {
   "cell_type": "code",
   "execution_count": 55,
   "metadata": {},
   "outputs": [
    {
     "data": {
      "text/plain": [
       "<matplotlib.image.AxesImage at 0x7f080bcffc18>"
      ]
     },
     "execution_count": 55,
     "metadata": {},
     "output_type": "execute_result"
    },
    {
     "data": {
      "image/png": "[encoded data removed]",
      "text/plain": [
       "<Figure size 432x288 with 1 Axes>"
      ]
     },
     "metadata": {
      "needs_background": "light"
     },
     "output_type": "display_data"
    }
   ],
   "source": [
    "# Spróbuj wybrać losowy index z przedziało 0-100\n",
    "plt.imshow(augmented_images[29])"
   ]
  },
  {
   "cell_type": "markdown",
   "metadata": {},
   "source": [
    "## Zadanie\n",
    "\n",
    "Przetestuj klasyfikator kNN na zbiorach MNIST, FMNIST rozszerzając zbiór przy pomocy imgaug oraz tworząc obrazki dodatkowe poprzez zaburzenie danych (np. dla x% pikseli losować liczbę 0,1 (MNIST), i odpowiednią – stopień szarości - dla zbioru FMNIST). \\\n",
    "Porównaj jakości klasyfikatorów dla zmodyfikowanych danych."
   ]
  }
 ],
 "metadata": {
  "@webio": {
   "lastCommId": null,
   "lastKernelId": null
  },
  "kernelspec": {
   "display_name": "venv",
   "language": "python",
   "name": "venv"
  },
  "language_info": {
   "codemirror_mode": {
    "name": "ipython",
    "version": 3
   },
   "file_extension": ".py",
   "mimetype": "text/x-python",
   "name": "python",
   "nbconvert_exporter": "python",
   "pygments_lexer": "ipython3",
   "version": "3.6.8"
  }
 },
 "nbformat": 4,
 "nbformat_minor": 2
}
