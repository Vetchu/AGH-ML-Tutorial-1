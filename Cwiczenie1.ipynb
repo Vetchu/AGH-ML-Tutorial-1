{
 "cells": [
  {
   "cell_type": "code",
   "execution_count": null,
   "metadata": {},
   "outputs": [],
   "source": [
    "import urllib.request\n",
    "import os\n",
    "import shutil\n",
    "import gzip\n",
    "import numpy as np\n",
    "import matplotlib.pyplot as plt\n",
    "\n",
    "from sklearn.datasets import fetch_openml\n",
    "import random\n",
    "from sklearn.model_selection import train_test_split\n",
    "\n",
    "import pandas as pd\n",
    "from sklearn.preprocessing import MinMaxScaler, StandardScaler, RobustScaler, Normalizer, Binarizer\n",
    "from sklearn.impute import SimpleImputer\n",
    "from sklearn.datasets import load_breast_cancer\n",
    "from sklearn.neighbors import KNeighborsClassifier\n",
    "from sklearn.model_selection import train_test_split, KFold, cross_val_score\n",
    "from sklearn.metrics import confusion_matrix, plot_confusion_matrix, classification_report\n",
    "\n",
    "from imgaug import augmenters as iaa"
   ]
  },
  {
   "cell_type": "markdown",
   "metadata": {},
   "source": [
    "## Zapoznanie się z zestawami danych\n",
    "\n",
    "\n",
    "### MNIST\n",
    "\n",
    "http://yann.lecun.com/exdb/mnist/\n",
    "\n",
    "\n",
    "MNIST (Modified National Institute of Standards and Technology database) - duży zbiór ręcznie zapisanych cyfr. Zawiera znormalizowane obrazki (28x28 px, anti-alliasing). \n",
    "Posiada 60'000 obrazów treningowych i 10'000 testowych.\n",
    "\n",
    "\n",
    "Musimy zacząć od pobrania i zdekowania danych. Można zrobic to np. na piechotę:"
   ]
  },
  {
   "cell_type": "code",
   "execution_count": null,
   "metadata": {},
   "outputs": [],
   "source": [
    "mnist_prefix = \"./mnist\"\n",
    "if os.path.isdir(mnist_prefix):\n",
    "    shutil.rmtree(mnist_prefix)\n",
    "os.mkdir(mnist_prefix)\n",
    "base_url = \"http://yann.lecun.com/exdb/mnist/\"\n",
    "datasets = [\"train-labels-idx1-ubyte.gz\", \"train-images-idx3-ubyte.gz\", \"t10k-labels-idx1-ubyte.gz\", \"t10k-images-idx3-ubyte.gz\"]"
   ]
  },
  {
   "cell_type": "code",
   "execution_count": null,
   "metadata": {},
   "outputs": [],
   "source": [
    "def fetch_gz(base_url, name):\n",
    "    path = \"{}/{}\".format(mnist_prefix, name)\n",
    "    urllib.request.urlretrieve(\"{}{}\".format(base_url, name), path)\n",
    "    data_file = gzip.open(path, \"rb\")\n",
    "    data = data_file.read()\n",
    "    data_file.close()\n",
    "    return data"
   ]
  },
  {
   "cell_type": "code",
   "execution_count": null,
   "metadata": {},
   "outputs": [],
   "source": [
    "def decode_mnist(data):\n",
    "    magic_number = int.from_bytes(data[0:4], byteorder='big')\n",
    "    if magic_number == 2051:\n",
    "        number_of_images = int.from_bytes(data[4:8], byteorder='big')\n",
    "        rows = int.from_bytes(data[8:12], byteorder='big')\n",
    "        columns = int.from_bytes(data[12:16], byteorder='big')\n",
    "        print(\"File contains {} images {}x{}\".format(number_of_images, rows, columns))\n",
    "        pixels = [int(b) for b in data[16:]]\n",
    "        return np.array(pixels).reshape((number_of_images, rows, columns))\n",
    "    elif magic_number == 2049:\n",
    "        number_of_labels = int.from_bytes(data[4:8], byteorder='big')\n",
    "        print(\"File contain {} labels\".format(number_of_labels))\n",
    "        return [int(b) for b in data[8:]]"
   ]
  },
  {
   "cell_type": "code",
   "execution_count": null,
   "metadata": {},
   "outputs": [],
   "source": [
    "(train_labels, train_images, test_labels, test_images) = [decode_mnist(fetch_gz(base_url, ds)) for ds in datasets]"
   ]
  },
  {
   "cell_type": "code",
   "execution_count": null,
   "metadata": {},
   "outputs": [],
   "source": [
    "plt.imshow(train_images[0])"
   ]
  },
  {
   "cell_type": "code",
   "execution_count": null,
   "metadata": {},
   "outputs": [],
   "source": [
    "train_labels[0]"
   ]
  },
  {
   "cell_type": "markdown",
   "metadata": {},
   "source": [
    "Lub w bardziej cywilizowany sposób używając gotowych funkcji bibliotek i pobierając dane np. z openml (https://www.openml.org/search?type=data):"
   ]
  },
  {
   "cell_type": "code",
   "execution_count": null,
   "metadata": {},
   "outputs": [],
   "source": [
    "mnist = fetch_openml(\"mnist_784\")"
   ]
  },
  {
   "cell_type": "code",
   "execution_count": null,
   "metadata": {},
   "outputs": [],
   "source": [
    "plt.imshow(np.array(mnist.data[0]).reshape(28,28))"
   ]
  },
  {
   "cell_type": "markdown",
   "metadata": {},
   "source": [
    "### Fashion-MNIST\n",
    "\n",
    "Fashion-MNIST\n",
    "\n",
    "Zbiór analogiczny do MNIST, zawiera obrazy przedstawiające elementy odzieży. 70'000 obrazów 28x28 px w skali szarości. Wskazywany jako następca MNIST ( MNIST jest uznawany za zbyt prosty, zbyt często używany, FMNIST lepiej oddaje współczesne problemy Computer Vision).\n",
    "\n",
    "\n",
    "https://github.com/zalandoresearch/fashion-mnist"
   ]
  },
  {
   "cell_type": "code",
   "execution_count": null,
   "metadata": {},
   "outputs": [],
   "source": [
    "fmnist = fetch_openml(\"Fashion-MNIST\")"
   ]
  },
  {
   "cell_type": "code",
   "execution_count": null,
   "metadata": {},
   "outputs": [],
   "source": [
    "print(fmnist.DESCR)\n",
    "\n",
    "plt.imshow(np.array(fmnist.data[10]).reshape(28,28))\n",
    "print('Category:', fmnist.target[10])"
   ]
  },
  {
   "cell_type": "markdown",
   "metadata": {},
   "source": [
    "### CIFAR-10\n",
    "https://www.cs.toronto.edu/~kriz/cifar.html"
   ]
  },
  {
   "cell_type": "code",
   "execution_count": null,
   "metadata": {},
   "outputs": [],
   "source": [
    "cifar10 = fetch_openml(\"CIFAR_10\")"
   ]
  },
  {
   "cell_type": "code",
   "execution_count": null,
   "metadata": {},
   "outputs": [],
   "source": [
    "print(cifar10.DESCR)\n",
    "\n",
    "single_img_reshaped = np.transpose(np.array(cifar10.data[623]).reshape(3,32,32).astype(int) , (1,2,0))\n",
    "plt.imshow(single_img_reshaped)"
   ]
  },
  {
   "cell_type": "markdown",
   "metadata": {},
   "source": [
    "### SmallNorb\n",
    "\n",
    "https://cs.nyu.edu/~ylclab/data/norb-v1.0-small/"
   ]
  },
  {
   "cell_type": "markdown",
   "metadata": {},
   "source": [
    "### TNG\n",
    "https://github.com/RMHogervorst/TNG"
   ]
  },
  {
   "cell_type": "code",
   "execution_count": null,
   "metadata": {},
   "outputs": [],
   "source": [
    "TNG_prefix = './TNG'\n",
    "TNG_name = 'ng20.csv'\n",
    "TNG_path = '{}/{}'.format(TNG_prefix, TNG_name)"
   ]
  },
  {
   "cell_type": "code",
   "execution_count": null,
   "metadata": {},
   "outputs": [],
   "source": [
    "TNG = pd.read_csv(TNG_path, header=None)\n",
    "TNG"
   ]
  },
  {
   "cell_type": "markdown",
   "metadata": {},
   "source": [
    "### Communities and Crime Unnormalized "
   ]
  },
  {
   "cell_type": "code",
   "execution_count": null,
   "metadata": {},
   "outputs": [],
   "source": [
    "cc_prefix = \"./communities_and_crimes\"\n",
    "cc_name = \"crimedata.csv\"\n",
    "cc_path = \"{}/{}\".format(cc_prefix, cc_name)"
   ]
  },
  {
   "cell_type": "code",
   "execution_count": null,
   "metadata": {},
   "outputs": [],
   "source": [
    "crimes = pd.read_csv(cc_path)"
   ]
  },
  {
   "cell_type": "markdown",
   "metadata": {},
   "source": [
    "## Procedury normalizujące dane i wybierające dane ze zbioru danych\n",
    "\n",
    "TODO: opis procedur"
   ]
  },
  {
   "cell_type": "markdown",
   "metadata": {},
   "source": [
    "### Wybieranie danych\n",
    "\n",
    "Najprostszy sposób na zmniejszenie rozmiaru datasetu - wzięcie n początkowych elementów:\n"
   ]
  },
  {
   "cell_type": "code",
   "execution_count": null,
   "metadata": {},
   "outputs": [],
   "source": [
    "fmnist_zipped = zip(fmnist.data, fmnist.target)\n",
    "fmnist_reduced_list = list(fmnist_zipped)[:1000]\n",
    "\n",
    "fmnist_reduced_data, fmnist_reduced_target = zip(*(fmnist_reduced_list))\n",
    "print((list(fmnist_reduced_target)[0:10]))\n"
   ]
  },
  {
   "cell_type": "markdown",
   "metadata": {},
   "source": [
    "Wzięcie _n_ losowych elementów z datasetu (bez modyfikacji kolejności w źródłowym datasecie):"
   ]
  },
  {
   "cell_type": "code",
   "execution_count": null,
   "metadata": {},
   "outputs": [],
   "source": [
    "fmnist_random_sample = random.sample(fmnist_reduced_list, 100)\n",
    "fmnist_reduced_data, fmnist_reduced_target = zip(*(fmnist_random_sample))\n",
    "print((list(fmnist_reduced_target)[0:10]))"
   ]
  },
  {
   "cell_type": "markdown",
   "metadata": {},
   "source": [
    "Podział danych na zbiór testowy oraz treningowy przy pomocy _sklearn_ :"
   ]
  },
  {
   "cell_type": "code",
   "execution_count": null,
   "metadata": {},
   "outputs": [],
   "source": [
    "X = fmnist.data\n",
    "y = fmnist.target\n",
    "\n",
    "X_train, X_test, y_train, y_test = train_test_split(X, y, test_size=0.2, random_state=42)\n",
    "print('X_train: ', len(X_train), ' y_train: ', len(y_train))\n",
    "print('X_test: ', len(X_test), ' y_test: ', len(y_test))"
   ]
  },
  {
   "cell_type": "markdown",
   "metadata": {},
   "source": [
    "### Normalizacja danych\n",
    "\n",
    "TODO: Opisać bardziej poszczególne metody normalizacji i standaryzacji, dodać przykład ze zdjęciem\n",
    "\n",
    "Normalizację danych wykonamy na danych UCI \"Communities and Crime Unnormalized\", dotyczących przestępczości w USA _(M=2215, N=143)_ .\n",
    "\n",
    "https://archive.ics.uci.edu/ml/datasets/Communities+and+Crime+Unnormalized\n",
    "https://www.kaggle.com/kkanda/communities%20and%20crime%20unnormalized%20data%20set/data"
   ]
  },
  {
   "cell_type": "code",
   "execution_count": null,
   "metadata": {},
   "outputs": [],
   "source": [
    "cc_df = crimes.set_index(['communityname', 'state', 'countyCode', 'communityCode']).replace('?', np.NaN)\n",
    "cc_df"
   ]
  },
  {
   "cell_type": "markdown",
   "metadata": {},
   "source": [
    "#### Uzupełnianie brakujących danych"
   ]
  },
  {
   "cell_type": "code",
   "execution_count": null,
   "metadata": {},
   "outputs": [],
   "source": [
    "imp=SimpleImputer(missing_values=np.NaN, strategy='mean')\n",
    "\n",
    "cc_df_filled = pd.DataFrame(imp.fit_transform(cc_df.values), index=cc_df.index, columns=cc_df.columns)\n",
    "cc_df_filled"
   ]
  },
  {
   "cell_type": "markdown",
   "metadata": {},
   "source": [
    "#### Skalowanie Min-Max"
   ]
  },
  {
   "cell_type": "code",
   "execution_count": null,
   "metadata": {},
   "outputs": [],
   "source": [
    "minmax = MinMaxScaler(feature_range=(0,1))\n",
    "minmax_df = minmax.fit_transform(cc_df_filled)\n",
    "df_scaled = pd.DataFrame(minmax_df, columns=cc_df_filled.columns, index=cc_df_filled.index)\n",
    "df_scaled"
   ]
  },
  {
   "cell_type": "markdown",
   "metadata": {},
   "source": [
    "#### Standaryzacja"
   ]
  },
  {
   "cell_type": "code",
   "execution_count": null,
   "metadata": {},
   "outputs": [],
   "source": [
    "standscaler = StandardScaler()\n",
    "standscaler_df = standscaler.fit_transform(cc_df_filled)\n",
    "st_df = pd.DataFrame(standscaler_df, columns=cc_df_filled.columns, index=cc_df_filled.index)\n",
    "st_df"
   ]
  },
  {
   "cell_type": "markdown",
   "metadata": {},
   "source": [
    "#### Normalizacja"
   ]
  },
  {
   "cell_type": "code",
   "execution_count": null,
   "metadata": {},
   "outputs": [],
   "source": [
    "norm = Normalizer(norm='l2')\n",
    "norm_df = norm.fit_transform(cc_df_filled)\n",
    "norm_df = pd.DataFrame(norm_df, columns=cc_df_filled.columns, index=cc_df_filled.index)\n",
    "norm_df"
   ]
  },
  {
   "cell_type": "code",
   "execution_count": null,
   "metadata": {},
   "outputs": [],
   "source": [
    "norm = Normalizer(norm='l1')\n",
    "norm_df = norm.fit_transform(cc_df_filled)\n",
    "norm_df = pd.DataFrame(norm_df, columns=cc_df_filled.columns, index=cc_df_filled.index)\n",
    "norm_df"
   ]
  },
  {
   "cell_type": "markdown",
   "metadata": {},
   "source": [
    "#### Binaryzacja"
   ]
  },
  {
   "cell_type": "code",
   "execution_count": null,
   "metadata": {},
   "outputs": [],
   "source": [
    "binarizer = Binarizer(threshold=10.0).fit_transform(cc_df_filled)\n",
    "binary_df = pd.DataFrame(binarizer, columns=cc_df_filled.columns, index=cc_df_filled.index)\n",
    "binary_df"
   ]
  },
  {
   "cell_type": "markdown",
   "metadata": {},
   "source": [
    "## Algorytm k-NN\n",
    "\n",
    "Algorytm kNN (k najbliższych sąsiadów) oblicza dystans każdy-do-każdego w przestrzeni euklidesowej, po czym wybiera k najbliższych obiektów do rozważanego. Te k najbliższych sąsiadów uznaje się, że są najbardziej zbliżone cechami. Dla każdego punktu w przestrzeni bierzemy k najbliższych sąsiadów i przypisujemy go do klasy z etykietą, którą ma większość okolicznych punktów danych (tzw. majority voting)."
   ]
  },
  {
   "cell_type": "markdown",
   "metadata": {},
   "source": [
    "#### Przykładowe wyszukanie najbliższego sąsiada"
   ]
  },
  {
   "cell_type": "code",
   "execution_count": null,
   "metadata": {},
   "outputs": [],
   "source": [
    "from sklearn.neighbors import NearestNeighbors\n",
    "import numpy as np\n",
    "\n",
    "#n_neighbors - k z kNN\n",
    "X = np.array([[-1, -1], [-2, -1], [-3, -2], [1, 1], [2, 1], [3, 2]])\n",
    "nbrs = NearestNeighbors(n_neighbors=2, algorithm='ball_tree').fit(X)\n",
    "distances, indices = nbrs.kneighbors(X)\n",
    "print(distances)\n",
    "print(indices)"
   ]
  },
  {
   "cell_type": "markdown",
   "metadata": {},
   "source": [
    "#### Przykładowe wykorzystanie\n",
    "\n",
    "Poeksperymentuj z n_neighbors i zobacz, jak zmienia się przydział danego obszaru do klas."
   ]
  },
  {
   "cell_type": "code",
   "execution_count": null,
   "metadata": {},
   "outputs": [],
   "source": [
    "import numpy as np\n",
    "import matplotlib.pyplot as plt\n",
    "from matplotlib.colors import ListedColormap\n",
    "from sklearn import neighbors, datasets\n",
    "\n",
    "n_neighbors = 10\n",
    "\n",
    "# importujemy przykładowy zbiór danych\n",
    "iris = datasets.load_iris()\n",
    "\n",
    "# bierzemy tylko 2 pierwsze wymiary z danych (żeby łatwo wizualizować)\n",
    "X = iris.data[:, :2]\n",
    "y = iris.target\n",
    "\n",
    "h = .02  # jak duży rozmiar obszarów rozważanych\n",
    "\n",
    "# mapy kolorków do wyświetlania\n",
    "cmap_light = ListedColormap(['orange', 'cyan', 'cornflowerblue'])\n",
    "cmap_bold = ListedColormap(['darkorange', 'c', 'darkblue'])\n",
    "\n",
    "for weights in ['uniform', 'distance']:\n",
    "    # Używamy klasyfikatora i fitujemy dane\n",
    "    clf = neighbors.KNeighborsClassifier(n_neighbors, weights=weights)\n",
    "    clf.fit(X, y)\n",
    "\n",
    "    x_min, x_max = X[:, 0].min() - 1, X[:, 0].max() + 1\n",
    "    y_min, y_max = X[:, 1].min() - 1, X[:, 1].max() + 1\n",
    "    xx, yy = np.meshgrid(np.arange(x_min, x_max, h),\n",
    "                         np.arange(y_min, y_max, h))\n",
    "    Z = clf.predict(np.c_[xx.ravel(), yy.ravel()])\n",
    "\n",
    "    # Rezultat dodajemy do mapy\n",
    "    Z = Z.reshape(xx.shape)\n",
    "    plt.figure()\n",
    "    plt.pcolormesh(xx, yy, Z, cmap=cmap_light)\n",
    "\n",
    "    # Rysujemy też punkty danych\n",
    "    plt.scatter(X[:, 0], X[:, 1], c=y, cmap=cmap_bold,\n",
    "                edgecolor='k', s=20)\n",
    "    plt.xlim(xx.min(), xx.max())\n",
    "    plt.ylim(yy.min(), yy.max())\n",
    "    plt.title(\"3-Class classification (k = %i, weights = '%s')\"\n",
    "              % (n_neighbors, weights))\n",
    "\n",
    "plt.show()"
   ]
  },
  {
   "attachments": {
    "image.png": {
     "image/png": "[encoded data removed]"
    }
   },
   "cell_type": "markdown",
   "metadata": {},
   "source": [
    "### FAISS\n",
    "\n",
    "Biblioteka do szybkiego liczenia, wykorzystująca CUDA, znacznie przyśpiesza obliczenia dzięki użyciu GPU.\n",
    "\n",
    "https://github.com/facebookresearch/faiss\n",
    "\n",
    "#### Porównanie ilości przetwarzanych danych na sekundę\n",
    "![image.png](attachment:image.png)\n",
    "\n",
    "#### Dla odważnych (z Nvidią i CUDA) Instalacja i wykorzystanie w praktyce\n",
    "\n",
    "https://github.com/facebookresearch/faiss/blob/master/INSTALL.md"
   ]
  },
  {
   "cell_type": "code",
   "execution_count": null,
   "metadata": {},
   "outputs": [],
   "source": [
    "import faiss\n",
    "\n",
    "dimension = 128    # dimensions of each vector                         \n",
    "n = 200    # number of vectors                   \n",
    "np.random.seed(1)             \n",
    "db_vectors = np.random.random((n, dimension)).astype('float32')\n",
    "\n",
    "nlist = 5  # number of clusters\n",
    "quantiser = faiss.IndexFlatL2(dimension)  \n",
    "index = faiss.IndexIVFFlat(quantiser, dimension, nlist, faiss.METRIC_L2)\n",
    "\n",
    "index.train(db_vectors)  # train on the database vectors\n",
    "index.add(db_vectors)   # add the vectors and update the index\n",
    "print(index.is_trained)  # True\n",
    "print(index.ntotal)   # 200\n",
    "\n",
    "nprobe = 2  # find 2 most similar clusters\n",
    "n_query = 10  \n",
    "k = 3  # return 3 nearest neighbours\n",
    "np.random.seed(0)   \n",
    "query_vectors = np.random.random((n_query, dimension)).astype('float32')\n",
    "distances, indices = index.search(query_vectors, k)"
   ]
  },
  {
   "attachments": {
    "5fold2.png": {
     "image/png": "[encoded data removed]"
    },
    "holdout2.png": {
     "image/png": "[encoded data removed]"
    },
    "loo.png": {
     "image/png": "[encoded data removed]"
    },
    "lpo.png": {
     "image/png": "[encoded data removed]"
    }
   },
   "cell_type": "markdown",
   "metadata": {},
   "source": [
    "## Miary jakości klasyfikatora\n",
    "\n",
    "\n",
    "### Cross-validation\n",
    "\n",
    "Walidacja krzyżowa to metoda statystyczna, polegająca na podziale próby statystycznej na podzbiory, a następnie przeprowadzaniu wszelkich analiz na niektórych z nich (zbiór uczący), podczas gdy pozostałe służą do potwierdzenia wiarygodności jej wyników (zbiór testowy, zbiór walidacyjny).\n",
    "\n",
    "#### Wybrane strategie walidacji krzyżowej\n",
    "\n",
    "* leave-one-out\n",
    "\n",
    "Po kolei każdy sample wybierany jest jako zbiór testowy, a pozostałe sample to zbiór treningowy.\n",
    "![loo.png](attachment:loo.png)\n",
    "\n",
    "* leave-p-out\n",
    "\n",
    "Po kolei wybierane są p-elementowe podzbiory jako zbiór testowy, a pozostałe elementy pozostają w zbiorze treningowym.\n",
    "![lpo.png](attachment:lpo.png)\n",
    "\n",
    "* holdout\n",
    "\n",
    "Dane dzielone są na zbiór treningowy i testowy.\n",
    "![holdout2.png](attachment:holdout2.png)\n",
    "\n",
    "* k-fold\n",
    "\n",
    "Zbiór dzielony jest na k-podzbiorów i po kolei przeprowadza się walidację dla każdego podzbioru jako zboiru testowego.\n",
    "![5fold2.png](attachment:5fold2.png)"
   ]
  },
  {
   "cell_type": "markdown",
   "metadata": {},
   "source": [
    "### Miary jakości klasyfikacji\n",
    "\n",
    "Dataset wykorzystany w tym ćwiczeniu: Breast Cancer Wisconsin (Diagnostic) Data Set"
   ]
  },
  {
   "cell_type": "code",
   "execution_count": null,
   "metadata": {},
   "outputs": [],
   "source": [
    "cancer = load_breast_cancer()\n",
    "#print(cancer.DESCR)\n",
    "\n",
    "X_train, X_test, y_train, y_test = train_test_split(cancer.data, cancer.target, test_size=0.5, random_state = 42)\n",
    "knn = KNeighborsClassifier()\n",
    "knn.fit(X_train, y_train)"
   ]
  },
  {
   "cell_type": "markdown",
   "metadata": {},
   "source": [
    "#### Classification accuracy\n",
    "Stosunek poprawnych klasyfikacji i wszystkich klasyfikacji. Bardzo prosta miara."
   ]
  },
  {
   "cell_type": "code",
   "execution_count": null,
   "metadata": {},
   "outputs": [],
   "source": [
    "scoring = 'accuracy'\n",
    "results = cross_val_score(knn, X_train, y_train, cv=5, scoring=scoring)\n",
    "print(results)\n",
    "print(\"Accuracy: %.3f (%.3f)\" % (np.mean(results), np.std(results)))"
   ]
  },
  {
   "cell_type": "markdown",
   "metadata": {},
   "source": [
    "#### Area Under ROC Curve"
   ]
  },
  {
   "cell_type": "code",
   "execution_count": null,
   "metadata": {},
   "outputs": [],
   "source": [
    "scoring = 'roc_auc'\n",
    "results = cross_val_score(knn, X_train, y_train, cv=5, scoring=scoring)\n",
    "print(results)\n",
    "print(\"AUC: %.3f (%.3f)\" % (np.mean(results), np.std(results)))"
   ]
  },
  {
   "cell_type": "markdown",
   "metadata": {},
   "source": [
    "#### Confusion matrix"
   ]
  },
  {
   "cell_type": "code",
   "execution_count": null,
   "metadata": {},
   "outputs": [],
   "source": [
    "predicted = knn.predict(X_test)\n",
    "matrix = confusion_matrix(y_test, predicted)\n",
    "print(matrix)\n",
    "disp = plot_confusion_matrix(knn, X_test, y_test, display_labels=cancer.target_names)\n",
    "plt.show()"
   ]
  },
  {
   "cell_type": "markdown",
   "metadata": {},
   "source": [
    "#### Classification report\n",
    "\n"
   ]
  },
  {
   "cell_type": "code",
   "execution_count": null,
   "metadata": {},
   "outputs": [],
   "source": [
    "predicted = knn.predict(X_test)\n",
    "report = classification_report(y_test, predicted, target_names=cancer.target_names)\n",
    "print(report)"
   ]
  },
  {
   "cell_type": "markdown",
   "metadata": {},
   "source": [
    "## Zmiana miary jakości w zależności od zmniejszenia zbioru uczącego \n",
    "(stosunek dane uczące -> testowe)"
   ]
  },
  {
   "cell_type": "code",
   "execution_count": null,
   "metadata": {},
   "outputs": [],
   "source": [
    "print(\"TODO: przykładowe wywołania poleceń z opisem argumentów + zadanie czy można poprawić jakość\")"
   ]
  },
  {
   "cell_type": "markdown",
   "metadata": {},
   "source": [
    "## Regularyzacja zbioru z małą ilością danych przez augmentację\n",
    "\n",
    "Augumentacja (rozszerzanie) polega na dodawaniu do zbioru nowych elementów poprzez zastosowanie różnorodnych transformacji dla elementów już istniejących. Jest ona powszechnie wykorzystywana w uczeniu maszynowym, ponieważ generowanie dużych zbiorów danych jest często trudne, a czasem nawet i niemożliwe. \\\n",
    "\\\n",
    "W zależności od zbioru danych można stosować różne operację je modyfikujące np. dodawanie szumów, interpolacja lub ekstrapolacja.\n",
    "\n",
    "TODO: pokazać jak zmieniają się miary jakości przy różnym stopniu nasilenia augmentacji (np interpolowanie zbioru punktami między już istniejącymi)"
   ]
  },
  {
   "cell_type": "code",
   "execution_count": null,
   "metadata": {},
   "outputs": [],
   "source": [
    "def augment(dataset):\n",
    "    return dataset"
   ]
  },
  {
   "cell_type": "code",
   "execution_count": null,
   "metadata": {},
   "outputs": [],
   "source": [
    "y = np.array(TNG[128])\n",
    "X = np.array(TNG[range(0,128)])"
   ]
  },
  {
   "cell_type": "code",
   "execution_count": null,
   "metadata": {},
   "outputs": [],
   "source": [
    "from sklearn import neighbors\n",
    "from sklearn.metrics import accuracy_score\n",
    "\n",
    "X_train, X_test, y_train, y_test = train_test_split(X, y, test_size=0.2)"
   ]
  },
  {
   "cell_type": "code",
   "execution_count": null,
   "metadata": {},
   "outputs": [],
   "source": [
    "def check_TNG_accuracy(X_train, X_test, y_train, y_test):\n",
    "    clf = neighbors.KNeighborsClassifier(10)\n",
    "    clf.fit(X_train, y_train)\n",
    "    y_predicted = clf.predict(X_test)\n",
    "    return accuracy_score(y_test, y_predicted)"
   ]
  },
  {
   "cell_type": "code",
   "execution_count": null,
   "metadata": {},
   "outputs": [],
   "source": [
    "print(\"Non augmented set accuracy: {}\".format(check_TNG_accuracy(X_train, X_test, y_train, y_test)))\n",
    "print(\"Augmented set accuracy: {}\".format(check_TNG_accuracy(X_train, X_test, y_train, y_test)))"
   ]
  },
  {
   "cell_type": "markdown",
   "metadata": {},
   "source": [
    "## Procedury augmentacyjne z imgaug\n",
    "\n",
    "Biblioteka imgaug służy do rozszerzenia zbiorów danych złożonych z obrazków. Pozwala ona wykonać wiele operacji (przez np. przycięcie obrazków, nałożenie szumów, zmianę kontrastu, zmianę perspektywy) dzięki czemu otrzymujemy większy zbiór danych. \n",
    "\n",
    "https://github.com/aleju/imgaug"
   ]
  },
  {
   "cell_type": "code",
   "execution_count": null,
   "metadata": {},
   "outputs": [],
   "source": [
    "image = np.array(mnist.data[0]).reshape(28,28)\n",
    "plt.imshow(image)"
   ]
  },
  {
   "cell_type": "markdown",
   "metadata": {},
   "source": [
    "### Przycięcie obrazka"
   ]
  },
  {
   "cell_type": "code",
   "execution_count": null,
   "metadata": {},
   "outputs": [],
   "source": [
    "crop = iaa.Crop(px=(1, 5)) # przytnij od 1 do 5 pixeli z każdej strony\n",
    "cropped = crop(images=[image])\n",
    "\n",
    "plt.imshow(cropped[0])"
   ]
  },
  {
   "cell_type": "markdown",
   "metadata": {},
   "source": [
    "### Rozmycie obrazka"
   ]
  },
  {
   "cell_type": "code",
   "execution_count": null,
   "metadata": {},
   "outputs": [],
   "source": [
    "blur = iaa.GaussianBlur(sigma=(2.0, 3.0))\n",
    "blurred = blur(images=[image])\n",
    "\n",
    "plt.imshow(blurred[0])"
   ]
  },
  {
   "cell_type": "markdown",
   "metadata": {},
   "source": [
    "### Obrót obrazka"
   ]
  },
  {
   "cell_type": "code",
   "execution_count": null,
   "metadata": {},
   "outputs": [],
   "source": [
    "rotate = iaa.Affine(rotate=(-15, 15))\n",
    "rotated = rotate(images=[image])\n",
    "\n",
    "plt.imshow(rotated[0])"
   ]
  },
  {
   "cell_type": "markdown",
   "metadata": {},
   "source": [
    "### Ciąg operacji na zbiorze"
   ]
  },
  {
   "cell_type": "code",
   "execution_count": null,
   "metadata": {},
   "outputs": [],
   "source": [
    "seq = iaa.Sequential([\n",
    "    iaa.Sometimes(0.7, iaa.GaussianBlur(sigma=(2.0, 3.0))),\n",
    "    iaa.Affine(rotate=(-15, 15))\n",
    "])\n",
    "\n",
    "#tutaj polecam zastosować lepsze wybieranie danych\n",
    "images = [np.array(i).reshape(28,28) for i in mnist.data[:100]]\n",
    "augmented_images = seq(images=images)\n",
    "\n",
    "print(len(augmented_images))"
   ]
  },
  {
   "cell_type": "code",
   "execution_count": null,
   "metadata": {},
   "outputs": [],
   "source": [
    "# Spróbuj wybrać losowy index z przedziało 0-100\n",
    "plt.imshow(augmented_images[29])"
   ]
  },
  {
   "cell_type": "markdown",
   "metadata": {},
   "source": [
    "## Zadanie\n",
    "\n",
    "Przetestuj klasyfikator kNN na zbiorach MNIST, FMNIST rozszerzając zbiór przy pomocy imgaug oraz tworząc obrazki dodatkowe poprzez zaburzenie danych (np. dla x% pikseli losować liczbę 0,1 (MNIST), i odpowiednią – stopień szarości - dla zbioru FMNIST). \\\n",
    "Porównaj jakości klasyfikatorów dla zmodyfikowanych danych."
   ]
  }
 ],
 "metadata": {
  "@webio": {
   "lastCommId": null,
   "lastKernelId": null
  },
  "kernelspec": {
   "display_name": "venv",
   "language": "python",
   "name": "venv"
  },
  "language_info": {
   "codemirror_mode": {
    "name": "ipython",
    "version": 3
   },
   "file_extension": ".py",
   "mimetype": "text/x-python",
   "name": "python",
   "nbconvert_exporter": "python",
   "pygments_lexer": "ipython3",
   "version": "3.6.8"
  }
 },
 "nbformat": 4,
 "nbformat_minor": 2
}
