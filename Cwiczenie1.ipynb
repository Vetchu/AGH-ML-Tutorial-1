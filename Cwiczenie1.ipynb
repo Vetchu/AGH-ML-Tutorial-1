{
 "cells": [
  {
   "cell_type": "markdown",
   "metadata": {},
   "source": [
    "## Zapoznanie się z zestawami danych.\n",
    "\n",
    "\n",
    "MNIST:\n",
    "\n",
    "http://yann.lecun.com/exdb/mnist/\n",
    "\n",
    "FMNIST:\n",
    "\n",
    "https://github.com/zalandoresearch/fashion-mnist\n",
    "\n",
    "TODO: zmniejszyć rozmiar tego i wrzucić w dostępne miejsce (najlepiej gdzieś na infrę AGH, w skrajnym przypadku zrobię endpointa na moim serwerze by przekierował do laptopa na zajęciach)"
   ]
  },
  {
   "cell_type": "markdown",
   "metadata": {},
   "source": [
    "## Procedury normalizujące dane i wybierające dane ze zbioru danych.\n",
    "\n",
    "TODO: opis procedur"
   ]
  },
  {
   "cell_type": "code",
   "execution_count": 14,
   "metadata": {},
   "outputs": [
    {
     "name": "stdout",
     "output_type": "stream",
     "text": [
      "TODO: przykładowe wywołania poleceń\n"
     ]
    }
   ],
   "source": [
    "print(\"TODO: przykładowe wywołania poleceń\")"
   ]
  },
  {
   "cell_type": "markdown",
   "metadata": {},
   "source": [
    "## Algorytm k-NN\n",
    "\n",
    "TODO: opis algorytmu\n",
    "\n",
    "TODO: realizacja pythonowa"
   ]
  },
  {
   "cell_type": "code",
   "execution_count": 15,
   "metadata": {},
   "outputs": [
    {
     "name": "stdout",
     "output_type": "stream",
     "text": [
      "TODO: przykładowe wywołania poleceń\n"
     ]
    }
   ],
   "source": [
    "print(\"TODO: przykładowe wywołania poleceń\")"
   ]
  },
  {
   "cell_type": "markdown",
   "metadata": {},
   "source": [
    "## Miary jakości klasyfikatora\n",
    "\n",
    "- cross validation (scikit learn)\n",
    "- leave-one-out\n",
    "\n",
    "przykładowy dataset:\n",
    "https://www.kaggle.com/uciml/breast-cancer-wisconsin-data"
   ]
  },
  {
   "cell_type": "code",
   "execution_count": 16,
   "metadata": {},
   "outputs": [
    {
     "name": "stdout",
     "output_type": "stream",
     "text": [
      "TODO: czy tutaj dać jakieś polecenia?\n"
     ]
    }
   ],
   "source": [
    "print(\"TODO: czy tutaj dać jakieś polecenia?\")"
   ]
  },
  {
   "cell_type": "markdown",
   "metadata": {},
   "source": [
    "## Zmiana miary jakości w zależności od zmniejszenia zbioru uczącego \n",
    "(stosunek dane uczące -> testowe)"
   ]
  },
  {
   "cell_type": "code",
   "execution_count": 17,
   "metadata": {},
   "outputs": [
    {
     "name": "stdout",
     "output_type": "stream",
     "text": [
      "TODO: przykładowe wywołania poleceń z opisem argumentów + zadanie czy można poprawić jakość\n"
     ]
    }
   ],
   "source": [
    "print(\"TODO: przykładowe wywołania poleceń z opisem argumentów + zadanie czy można poprawić jakość\")"
   ]
  },
  {
   "cell_type": "markdown",
   "metadata": {},
   "source": [
    "## Regularyzacja zbioru z małą ilością danych przez augmentację\n",
    "\n",
    "TODO: pokazać jak zmieniają się miary jakości przy różnym stopniu nasilenia augmentacji (np interpolowanie zbioru punktami między już istniejącymi)"
   ]
  },
  {
   "cell_type": "code",
   "execution_count": 18,
   "metadata": {},
   "outputs": [
    {
     "name": "stdout",
     "output_type": "stream",
     "text": [
      "TODO: przykładowe wywołania poleceń\n"
     ]
    }
   ],
   "source": [
    "print(\"TODO: przykładowe wywołania poleceń\")"
   ]
  },
  {
   "cell_type": "markdown",
   "metadata": {},
   "source": [
    "## Procedury augmentacyjne z imgaug\n",
    "\n",
    "TODO: 3-4 przykłady z imgaug\n",
    "\n",
    "https://github.com/aleju/imgaug\n",
    "\n",
    "Najlepiej w postaci samouczka z gotowymi poleceniami, więc tak z 5-6 komórek z paroma przykładami by pokazać jak się toto zachowuje przy różnych argumentach na różnych zbiorach danych (np 3 różne argumenty na 2 zbiory)"
   ]
  },
  {
   "cell_type": "code",
   "execution_count": 19,
   "metadata": {},
   "outputs": [
    {
     "name": "stdout",
     "output_type": "stream",
     "text": [
      "TODO: przykładowe wywołania poleceń, tym razem najlepiej w osobnych komórkach\n"
     ]
    }
   ],
   "source": [
    "print(\"TODO: przykładowe wywołania poleceń, tym razem najlepiej w osobnych komórkach\")"
   ]
  },
  {
   "cell_type": "markdown",
   "metadata": {},
   "source": [
    "## TODO: przygotować zadanie z imgaug na podstawie powyższych\n",
    "by dało się w miarę bez googlowania je zrobić w miarę krótkim czasie - jest na to 50 min"
   ]
  }
 ],
 "metadata": {
  "kernelspec": {
   "display_name": "Python 3",
   "language": "python",
   "name": "python3"
  },
  "language_info": {
   "codemirror_mode": {
    "name": "ipython",
    "version": 3
   },
   "file_extension": ".py",
   "mimetype": "text/x-python",
   "name": "python",
   "nbconvert_exporter": "python",
   "pygments_lexer": "ipython3",
   "version": "3.8.1"
  }
 },
 "nbformat": 4,
 "nbformat_minor": 2
}
