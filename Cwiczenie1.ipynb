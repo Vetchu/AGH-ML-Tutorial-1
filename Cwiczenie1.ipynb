{
 "cells": [
  {
   "cell_type": "code",
   "execution_count": 4,
   "metadata": {},
   "outputs": [],
   "source": [
    "import urllib.request\n",
    "import os\n",
    "import shutil\n",
    "import gzip\n",
    "import numpy as np\n",
    "import matplotlib.pyplot as plt\n",
    "from sklearn.datasets import fetch_openml"
   ]
  },
  {
   "cell_type": "markdown",
   "metadata": {},
   "source": [
    "## Zapoznanie się z zestawami danych.\n",
    "\n",
    "\n",
    "### MNIST\n",
    "\n",
    "http://yann.lecun.com/exdb/mnist/\n",
    "\n",
    "Musimy zacząć od pobrania i zdekowania danych. Można zrobic to np. na piechotę:"
   ]
  },
  {
   "cell_type": "code",
   "execution_count": 33,
   "metadata": {},
   "outputs": [],
   "source": [
    "mnist_prefix = \"./mnist\"\n",
    "shutil.rmtree(mnist_prefix)\n",
    "os.mkdir(mnist_prefix)\n",
    "base_url = \"http://yann.lecun.com/exdb/mnist/\"\n",
    "datasets = [\"train-labels-idx1-ubyte.gz\", \"train-images-idx3-ubyte.gz\", \"t10k-labels-idx1-ubyte.gz\", \"t10k-images-idx3-ubyte.gz\"]"
   ]
  },
  {
   "cell_type": "code",
   "execution_count": 34,
   "metadata": {},
   "outputs": [],
   "source": [
    "def fetch_gz(base_url, name):\n",
    "    path = \"{}/{}\".format(mnist_prefix, name)\n",
    "    urllib.request.urlretrieve(\"{}{}\".format(base_url, name), path)\n",
    "    data_file = gzip.open(path, \"rb\")\n",
    "    data = data_file.read()\n",
    "    data_file.close()\n",
    "    return data"
   ]
  },
  {
   "cell_type": "code",
   "execution_count": 35,
   "metadata": {},
   "outputs": [],
   "source": [
    "def decode_mnist(data):\n",
    "    magic_number = int.from_bytes(data[0:4], byteorder='big')\n",
    "    if magic_number == 2051:\n",
    "        number_of_images = int.from_bytes(data[4:8], byteorder='big')\n",
    "        rows = int.from_bytes(data[8:12], byteorder='big')\n",
    "        columns = int.from_bytes(data[12:16], byteorder='big')\n",
    "        print(\"File contains {} images {}x{}\".format(number_of_images, rows, columns))\n",
    "        pixels = [int(b) for b in data[16:]]\n",
    "        return np.array(pixels).reshape((number_of_images, rows, columns))\n",
    "    elif magic_number == 2049:\n",
    "        number_of_labels = int.from_bytes(data[4:8], byteorder='big')\n",
    "        print(\"File contain {} labels\".format(number_of_labels))\n",
    "        return [int(b) for b in data[8:]]"
   ]
  },
  {
   "cell_type": "code",
   "execution_count": 36,
   "metadata": {},
   "outputs": [
    {
     "name": "stdout",
     "output_type": "stream",
     "text": [
      "File contain 60000 labels\n",
      "File contain 60000 images 28x28\n",
      "File contain 10000 labels\n",
      "File contain 10000 images 28x28\n"
     ]
    }
   ],
   "source": [
    "(train_labels, train_images, test_labels, test_images) = [decode_mnist(fetch_gz(base_url, ds)) for ds in datasets]"
   ]
  },
  {
   "cell_type": "code",
   "execution_count": 37,
   "metadata": {},
   "outputs": [
    {
     "data": {
      "text/plain": [
       "<matplotlib.image.AxesImage at 0x7f6ccf604ba8>"
      ]
     },
     "execution_count": 37,
     "metadata": {},
     "output_type": "execute_result"
    },
    {
     "data": {
      "image/png": "[encoded data removed]",
      "text/plain": [
       "<Figure size 432x288 with 1 Axes>"
      ]
     },
     "metadata": {
      "needs_background": "light"
     },
     "output_type": "display_data"
    }
   ],
   "source": [
    "plt.imshow(train_images[0])"
   ]
  },
  {
   "cell_type": "code",
   "execution_count": 39,
   "metadata": {},
   "outputs": [
    {
     "data": {
      "text/plain": [
       "5"
      ]
     },
     "execution_count": 39,
     "metadata": {},
     "output_type": "execute_result"
    }
   ],
   "source": [
    "train_labels[0]"
   ]
  },
  {
   "cell_type": "markdown",
   "metadata": {},
   "source": [
    "Lub w bardziej cywilizowany sposób używając gotowych funkcji bibliotek i pobierając dane np z openml (https://www.openml.org/search?type=data):"
   ]
  },
  {
   "cell_type": "code",
   "execution_count": 5,
   "metadata": {},
   "outputs": [],
   "source": [
    "mnist = fetch_openml(\"mnist_784\")"
   ]
  },
  {
   "cell_type": "code",
   "execution_count": 9,
   "metadata": {},
   "outputs": [
    {
     "data": {
      "text/plain": [
       "<matplotlib.image.AxesImage at 0x7fb74f62f518>"
      ]
     },
     "execution_count": 9,
     "metadata": {},
     "output_type": "execute_result"
    },
    {
     "data": {
      "image/png": "[encoded data removed]",
      "text/plain": [
       "<Figure size 432x288 with 1 Axes>"
      ]
     },
     "metadata": {
      "needs_background": "light"
     },
     "output_type": "display_data"
    }
   ],
   "source": [
    "plt.imshow(np.array(mnist.data[0]).reshape(28,28))"
   ]
  },
  {
   "cell_type": "markdown",
   "metadata": {},
   "source": [
    "### Fashion-MNIST\n",
    "\n",
    "https://github.com/zalandoresearch/fashion-mnist"
   ]
  },
  {
   "cell_type": "code",
   "execution_count": 11,
   "metadata": {},
   "outputs": [],
   "source": [
    "fmnist = fetch_openml(\"Fashion-MNIST\")"
   ]
  },
  {
   "cell_type": "code",
   "execution_count": 17,
   "metadata": {},
   "outputs": [
    {
     "data": {
      "text/plain": [
       "<matplotlib.image.AxesImage at 0x7fb74eeccda0>"
      ]
     },
     "execution_count": 17,
     "metadata": {},
     "output_type": "execute_result"
    },
    {
     "data": {
      "image/png": "[encoded data removed]",
      "text/plain": [
       "<Figure size 432x288 with 1 Axes>"
      ]
     },
     "metadata": {
      "needs_background": "light"
     },
     "output_type": "display_data"
    }
   ],
   "source": [
    "plt.imshow(np.array(fmnist.data[10]).reshape(28,28))"
   ]
  },
  {
   "cell_type": "markdown",
   "metadata": {},
   "source": [
    "### CIFAR-10\n",
    "https://www.cs.toronto.edu/~kriz/cifar.html"
   ]
  },
  {
   "cell_type": "code",
   "execution_count": null,
   "metadata": {},
   "outputs": [],
   "source": [
    "cifar10 = fetch_openml(\"CIFAR_10\")"
   ]
  },
  {
   "cell_type": "code",
   "execution_count": null,
   "metadata": {},
   "outputs": [],
   "source": [
    "plt.imshow(np.array(cifar10.data[623]).reshape(32,32,3).astype(int))"
   ]
  },
  {
   "cell_type": "markdown",
   "metadata": {},
   "source": [
    "### SmallNorb\n",
    "\n",
    "https://cs.nyu.edu/~ylclab/data/norb-v1.0-small/"
   ]
  },
  {
   "cell_type": "markdown",
   "metadata": {},
   "source": [
    "### TNG\n",
    "https://github.com/RMHogervorst/TNG"
   ]
  },
  {
   "cell_type": "markdown",
   "metadata": {},
   "source": [
    "## Procedury normalizujące dane i wybierające dane ze zbioru danych.\n",
    "\n",
    "TODO: opis procedur"
   ]
  },
  {
   "cell_type": "code",
   "execution_count": 14,
   "metadata": {},
   "outputs": [
    {
     "name": "stdout",
     "output_type": "stream",
     "text": [
      "TODO: przykładowe wywołania poleceń\n"
     ]
    }
   ],
   "source": [
    "print(\"TODO: przykładowe wywołania poleceń\")"
   ]
  },
  {
   "cell_type": "markdown",
   "metadata": {},
   "source": [
    "## Algorytm k-NN\n",
    "\n",
    "TODO: opis algorytmu\n",
    "\n",
    "TODO: realizacja pythonowa"
   ]
  },
  {
   "cell_type": "code",
   "execution_count": 15,
   "metadata": {},
   "outputs": [
    {
     "name": "stdout",
     "output_type": "stream",
     "text": [
      "TODO: przykładowe wywołania poleceń\n"
     ]
    }
   ],
   "source": [
    "print(\"TODO: przykładowe wywołania poleceń\")"
   ]
  },
  {
   "cell_type": "markdown",
   "metadata": {},
   "source": [
    "## Miary jakości klasyfikatora\n",
    "\n",
    "- cross validation (scikit learn)\n",
    "- leave-one-out\n",
    "\n",
    "przykładowy dataset:\n",
    "https://www.kaggle.com/uciml/breast-cancer-wisconsin-data"
   ]
  },
  {
   "cell_type": "code",
   "execution_count": 16,
   "metadata": {},
   "outputs": [
    {
     "name": "stdout",
     "output_type": "stream",
     "text": [
      "TODO: czy tutaj dać jakieś polecenia?\n"
     ]
    }
   ],
   "source": [
    "print(\"TODO: czy tutaj dać jakieś polecenia?\")"
   ]
  },
  {
   "cell_type": "markdown",
   "metadata": {},
   "source": [
    "## Zmiana miary jakości w zależności od zmniejszenia zbioru uczącego \n",
    "(stosunek dane uczące -> testowe)"
   ]
  },
  {
   "cell_type": "code",
   "execution_count": 17,
   "metadata": {},
   "outputs": [
    {
     "name": "stdout",
     "output_type": "stream",
     "text": [
      "TODO: przykładowe wywołania poleceń z opisem argumentów + zadanie czy można poprawić jakość\n"
     ]
    }
   ],
   "source": [
    "print(\"TODO: przykładowe wywołania poleceń z opisem argumentów + zadanie czy można poprawić jakość\")"
   ]
  },
  {
   "cell_type": "markdown",
   "metadata": {},
   "source": [
    "## Regularyzacja zbioru z małą ilością danych przez augmentację\n",
    "\n",
    "TODO: pokazać jak zmieniają się miary jakości przy różnym stopniu nasilenia augmentacji (np interpolowanie zbioru punktami między już istniejącymi)"
   ]
  },
  {
   "cell_type": "code",
   "execution_count": 18,
   "metadata": {},
   "outputs": [
    {
     "name": "stdout",
     "output_type": "stream",
     "text": [
      "TODO: przykładowe wywołania poleceń\n"
     ]
    }
   ],
   "source": [
    "print(\"TODO: przykładowe wywołania poleceń\")"
   ]
  },
  {
   "cell_type": "markdown",
   "metadata": {},
   "source": [
    "## Procedury augmentacyjne z imgaug\n",
    "\n",
    "TODO: 3-4 przykłady z imgaug\n",
    "\n",
    "https://github.com/aleju/imgaug\n",
    "\n",
    "Najlepiej w postaci samouczka z gotowymi poleceniami, więc tak z 5-6 komórek z paroma przykładami by pokazać jak się toto zachowuje przy różnych argumentach na różnych zbiorach danych (np 3 różne argumenty na 2 zbiory)"
   ]
  },
  {
   "cell_type": "code",
   "execution_count": 19,
   "metadata": {},
   "outputs": [
    {
     "name": "stdout",
     "output_type": "stream",
     "text": [
      "TODO: przykładowe wywołania poleceń, tym razem najlepiej w osobnych komórkach\n"
     ]
    }
   ],
   "source": [
    "print(\"TODO: przykładowe wywołania poleceń, tym razem najlepiej w osobnych komórkach\")"
   ]
  },
  {
   "cell_type": "markdown",
   "metadata": {},
   "source": [
    "## TODO: przygotować zadanie z imgaug na podstawie powyższych\n",
    "by dało się w miarę bez googlowania je zrobić w miarę krótkim czasie - jest na to 50 min"
   ]
  }
 ],
 "metadata": {
  "kernelspec": {
   "display_name": "venv",
   "language": "python",
   "name": "venv"
  },
  "language_info": {
   "codemirror_mode": {
    "name": "ipython",
    "version": 3
   },
   "file_extension": ".py",
   "mimetype": "text/x-python",
   "name": "python",
   "nbconvert_exporter": "python",
   "pygments_lexer": "ipython3",
   "version": "3.6.8"
  }
 },
 "nbformat": 4,
 "nbformat_minor": 2
}
